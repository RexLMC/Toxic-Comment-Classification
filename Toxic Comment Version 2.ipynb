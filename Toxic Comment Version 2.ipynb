{
 "cells": [
  {
   "cell_type": "code",
   "execution_count": 1,
   "metadata": {},
   "outputs": [],
   "source": [
    "import numpy as np\n",
    "import pandas as pd\n",
    "\n",
    "from sklearn.feature_extraction.text import TfidfVectorizer\n",
    "from sklearn.linear_model import LogisticRegression\n",
    "from sklearn.model_selection import cross_val_score\n",
    "from scipy.sparse import hstack"
   ]
  },
  {
   "cell_type": "markdown",
   "metadata": {},
   "source": [
    "## For un-successful installtion by using pip\n",
    "1. Download the package in .whl file\n",
    "2. Unzip the file and move it to where you store python library\n",
    "3. Use !pip install \"C:/Users/rex/Anaconda3/Lib/site-packages/wordcloud-1.4.1-cp36-cp36m-win_amd64.whl\" to install the package"
   ]
  },
  {
   "cell_type": "code",
   "execution_count": 2,
   "metadata": {},
   "outputs": [],
   "source": [
    "class_names = ['toxic', 'severe_toxic', 'obscene', 'threat', 'insult', 'identity_hate']\n",
    "\n",
    "train = pd.read_csv('train.csv').fillna(' ')\n",
    "test = pd.read_csv('test.csv').fillna(' ')"
   ]
  },
  {
   "cell_type": "code",
   "execution_count": 25,
   "metadata": {},
   "outputs": [],
   "source": [
    "train = train[:7000]\n",
    "test = test[:7000]"
   ]
  },
  {
   "cell_type": "code",
   "execution_count": 26,
   "metadata": {},
   "outputs": [
    {
     "data": {
      "text/html": [
       "<div>\n",
       "<style scoped>\n",
       "    .dataframe tbody tr th:only-of-type {\n",
       "        vertical-align: middle;\n",
       "    }\n",
       "\n",
       "    .dataframe tbody tr th {\n",
       "        vertical-align: top;\n",
       "    }\n",
       "\n",
       "    .dataframe thead th {\n",
       "        text-align: right;\n",
       "    }\n",
       "</style>\n",
       "<table border=\"1\" class=\"dataframe\">\n",
       "  <thead>\n",
       "    <tr style=\"text-align: right;\">\n",
       "      <th></th>\n",
       "      <th>id</th>\n",
       "      <th>comment_text</th>\n",
       "      <th>toxic</th>\n",
       "      <th>severe_toxic</th>\n",
       "      <th>obscene</th>\n",
       "      <th>threat</th>\n",
       "      <th>insult</th>\n",
       "      <th>identity_hate</th>\n",
       "      <th>Clean_Text</th>\n",
       "    </tr>\n",
       "  </thead>\n",
       "  <tbody>\n",
       "    <tr>\n",
       "      <th>6995</th>\n",
       "      <td>12a3ddf499b8e3b0</td>\n",
       "      <td>And this is off the track, but if you continue...</td>\n",
       "      <td>0</td>\n",
       "      <td>0</td>\n",
       "      <td>0</td>\n",
       "      <td>0</td>\n",
       "      <td>0</td>\n",
       "      <td>0</td>\n",
       "      <td>And this is off the track but if you continue ...</td>\n",
       "    </tr>\n",
       "    <tr>\n",
       "      <th>6996</th>\n",
       "      <td>12a3fef786aa2aef</td>\n",
       "      <td>definition 1: sheldon the aids smoking ninja r...</td>\n",
       "      <td>1</td>\n",
       "      <td>0</td>\n",
       "      <td>0</td>\n",
       "      <td>0</td>\n",
       "      <td>0</td>\n",
       "      <td>0</td>\n",
       "      <td>definition sheldon the aids smoking ninja rapist</td>\n",
       "    </tr>\n",
       "    <tr>\n",
       "      <th>6997</th>\n",
       "      <td>12a3ffa8215af086</td>\n",
       "      <td>I was in central London at the time, it was to...</td>\n",
       "      <td>0</td>\n",
       "      <td>0</td>\n",
       "      <td>0</td>\n",
       "      <td>0</td>\n",
       "      <td>0</td>\n",
       "      <td>0</td>\n",
       "      <td>I was in central London at the time it was tot...</td>\n",
       "    </tr>\n",
       "    <tr>\n",
       "      <th>6998</th>\n",
       "      <td>12a4e80cdf743b3a</td>\n",
       "      <td>Exactly, what are the jobs did the two produce...</td>\n",
       "      <td>0</td>\n",
       "      <td>0</td>\n",
       "      <td>0</td>\n",
       "      <td>0</td>\n",
       "      <td>0</td>\n",
       "      <td>0</td>\n",
       "      <td>Exactly what are the jobs did the two producer...</td>\n",
       "    </tr>\n",
       "    <tr>\n",
       "      <th>6999</th>\n",
       "      <td>12a54db2229184b3</td>\n",
       "      <td>u suck at making movies\\n\\nu pathetic geek\\n\\n...</td>\n",
       "      <td>1</td>\n",
       "      <td>0</td>\n",
       "      <td>1</td>\n",
       "      <td>0</td>\n",
       "      <td>1</td>\n",
       "      <td>0</td>\n",
       "      <td>u suck at making movies u pathetic geek ur pre...</td>\n",
       "    </tr>\n",
       "  </tbody>\n",
       "</table>\n",
       "</div>"
      ],
      "text/plain": [
       "                    id                                       comment_text  \\\n",
       "6995  12a3ddf499b8e3b0  And this is off the track, but if you continue...   \n",
       "6996  12a3fef786aa2aef  definition 1: sheldon the aids smoking ninja r...   \n",
       "6997  12a3ffa8215af086  I was in central London at the time, it was to...   \n",
       "6998  12a4e80cdf743b3a  Exactly, what are the jobs did the two produce...   \n",
       "6999  12a54db2229184b3  u suck at making movies\\n\\nu pathetic geek\\n\\n...   \n",
       "\n",
       "      toxic  severe_toxic  obscene  threat  insult  identity_hate  \\\n",
       "6995      0             0        0       0       0              0   \n",
       "6996      1             0        0       0       0              0   \n",
       "6997      0             0        0       0       0              0   \n",
       "6998      0             0        0       0       0              0   \n",
       "6999      1             0        1       0       1              0   \n",
       "\n",
       "                                             Clean_Text  \n",
       "6995  And this is off the track but if you continue ...  \n",
       "6996   definition sheldon the aids smoking ninja rapist  \n",
       "6997  I was in central London at the time it was tot...  \n",
       "6998  Exactly what are the jobs did the two producer...  \n",
       "6999  u suck at making movies u pathetic geek ur pre...  "
      ]
     },
     "execution_count": 26,
     "metadata": {},
     "output_type": "execute_result"
    }
   ],
   "source": [
    "train.tail()"
   ]
  },
  {
   "cell_type": "code",
   "execution_count": 27,
   "metadata": {},
   "outputs": [
    {
     "data": {
      "text/plain": [
       "6995    And this is off the track, but if you continue...\n",
       "6996    definition 1: sheldon the aids smoking ninja r...\n",
       "6997    I was in central London at the time, it was to...\n",
       "6998    Exactly, what are the jobs did the two produce...\n",
       "6999    u suck at making movies  u pathetic geek  ur p...\n",
       "Name: comment_text, dtype: object"
      ]
     },
     "execution_count": 27,
     "metadata": {},
     "output_type": "execute_result"
    }
   ],
   "source": [
    "train[\"comment_text\"][-5:].str.replace(\"\\n\", \" \")"
   ]
  },
  {
   "cell_type": "code",
   "execution_count": null,
   "metadata": {
    "collapsed": true
   },
   "outputs": [],
   "source": []
  },
  {
   "cell_type": "code",
   "execution_count": 6,
   "metadata": {},
   "outputs": [
    {
     "data": {
      "text/plain": [
       "'\"\\nMore\\nI can\\'t make any real suggestions on improvement - I wondered if the section statistics should be later on, or a subsection of \"\"types of accidents\"\" -I think the references may need tidying so that they are all in the exact same format ie date format etc. I can do that later on, if no-one else does first - if you have any preferences for formatting style on references or want to do it yourself please let me know.\\n\\nThere appears to be a backlog on articles for review so I guess there may be a delay until a reviewer turns up. It\\'s listed in the relevant form eg Wikipedia:Good_article_nominations#Transport \"'"
      ]
     },
     "execution_count": 6,
     "metadata": {},
     "output_type": "execute_result"
    }
   ],
   "source": [
    "import re\n",
    "re.sub(' +',' ',(train[\"comment_text\"][3]))"
   ]
  },
  {
   "cell_type": "code",
   "execution_count": 7,
   "metadata": {},
   "outputs": [
    {
     "data": {
      "text/plain": [
       "' More I cant make any real suggestions on improvement I wondered if the section statistics should be later on or a subsection of types of accidents I think the references may need tidying so that they are all in the exact same format ie date format etc I can do that later on if no one else does first if you have any preferences for formatting style on references or want to do it yourself please let me know There appears to be a backlog on articles for review so I guess there may be a delay until a reviewer turns up Its listed in the relevant form eg Wikipedia Good article nominations Transport '"
      ]
     },
     "execution_count": 7,
     "metadata": {},
     "output_type": "execute_result"
    }
   ],
   "source": [
    "re.sub('[^A-Za-z]+', ' ', train[\"comment_text\"][3].replace(\"'\",\"\").replace(\"\\n\", \" \"))"
   ]
  },
  {
   "cell_type": "markdown",
   "metadata": {},
   "source": [
    "## Text Pre-processing\n",
    "1. Replace \"can't\" to  \"cant\"\n",
    "2. Replace \"\\n\" to \" \", i.e. \"\\nTedious\\nPre-processing\" to \"Tedious Pre-processing\"\n",
    "3. Remove all numeric and special character"
   ]
  },
  {
   "cell_type": "code",
   "execution_count": 28,
   "metadata": {},
   "outputs": [],
   "source": [
    "import re\n",
    "Text_only= []\n",
    "Clean_train= []\n",
    "for i in range(test.shape[0]):\n",
    "    Text=re.sub('[^A-Za-z]+', ' ', (train[\"comment_text\"][i].replace(\"'\",\"\").replace(\"\\n\", \" \")))\n",
    "    Text_only.append(Text)\n",
    "    Clean=re.sub(' +',' ',Text)\n",
    "    Clean_train.append(Clean)"
   ]
  },
  {
   "cell_type": "code",
   "execution_count": 29,
   "metadata": {},
   "outputs": [],
   "source": [
    "Text_only= []\n",
    "Clean_test= []\n",
    "for i in range(test.shape[0]):\n",
    "    Text=re.sub('[^A-Za-z]+', ' ', (test[\"comment_text\"][i].replace(\"'\",\"\").replace(\"\\n\", \" \")))\n",
    "    Text_only.append(Text)\n",
    "    Clean=re.sub(' +',' ',Text)\n",
    "    Clean_test.append(Clean)"
   ]
  },
  {
   "cell_type": "code",
   "execution_count": 32,
   "metadata": {},
   "outputs": [
    {
     "name": "stderr",
     "output_type": "stream",
     "text": [
      "C:\\ProgramData\\Anaconda3\\lib\\site-packages\\ipykernel_launcher.py:1: SettingWithCopyWarning: \n",
      "A value is trying to be set on a copy of a slice from a DataFrame.\n",
      "Try using .loc[row_indexer,col_indexer] = value instead\n",
      "\n",
      "See the caveats in the documentation: http://pandas.pydata.org/pandas-docs/stable/indexing.html#indexing-view-versus-copy\n",
      "  \"\"\"Entry point for launching an IPython kernel.\n"
     ]
    }
   ],
   "source": [
    "train['Clean_Text'] = pd.DataFrame(Clean_train)\n",
    "test['Clean_Text'] = pd.DataFrame(Clean_test)"
   ]
  },
  {
   "cell_type": "markdown",
   "metadata": {},
   "source": [
    "## Stemming and Lemmatization\n",
    "After removal of stopwords, the next stage of NLP that I would like to introduce is the process of Stemming. The work at this stage attempts to reduce as many different variations of similar words into a single term ( different branches all reduced to single word stem). Therefore if we have \"running\", \"runs\" and \"run\", you would really want these three distinct words to collapse into just the word \"run\". (However of course you lose granularity of the past, present or future tense).\n",
    "\n",
    "However there is one flaw with stemming and that is the fact that the process involves quite a crude heuristic in chopping off the ends of words in the hope of reducing a particular word into a human recognizable base form. Therefore this process does not take into account vocabulary or word forms\n",
    "\n",
    "Therefore we turn to another that we could use in lieu of stemming. This method is called lemmatization which aims to achieve the same effect as the former method. However unlike a stemmer, lemmatizing the dataset aims to reduce words based on an actual dictionary or vocabulary (the Lemma) and therefore will not chop off words into stemmed forms that do not carry any lexical meaning."
   ]
  },
  {
   "cell_type": "code",
   "execution_count": 10,
   "metadata": {},
   "outputs": [],
   "source": [
    "import nltk"
   ]
  },
  {
   "cell_type": "code",
   "execution_count": 23,
   "metadata": {
    "collapsed": true
   },
   "outputs": [
    {
     "name": "stderr",
     "output_type": "stream",
     "text": [
      "[nltk_data] Downloading package wordnet to\n",
      "[nltk_data]     C:\\Users\\MingChoon\\AppData\\Roaming\\nltk_data...\n",
      "[nltk_data]   Unzipping corpora\\wordnet.zip.\n"
     ]
    },
    {
     "data": {
      "text/plain": [
       "True"
      ]
     },
     "execution_count": 23,
     "metadata": {},
     "output_type": "execute_result"
    }
   ],
   "source": [
    "nltk.download('wordnet')"
   ]
  },
  {
   "cell_type": "code",
   "execution_count": null,
   "metadata": {},
   "outputs": [],
   "source": []
  },
  {
   "cell_type": "code",
   "execution_count": 33,
   "metadata": {},
   "outputs": [
    {
     "name": "stderr",
     "output_type": "stream",
     "text": [
      "C:\\ProgramData\\Anaconda3\\lib\\site-packages\\ipykernel_launcher.py:7: SettingWithCopyWarning: \n",
      "A value is trying to be set on a copy of a slice from a DataFrame.\n",
      "Try using .loc[row_indexer,col_indexer] = value instead\n",
      "\n",
      "See the caveats in the documentation: http://pandas.pydata.org/pandas-docs/stable/indexing.html#indexing-view-versus-copy\n",
      "  import sys\n"
     ]
    }
   ],
   "source": [
    "w_tokenizer = nltk.tokenize.WhitespaceTokenizer()\n",
    "lemmatizer = nltk.stem.WordNetLemmatizer()\n",
    "\n",
    "def lemmatize_text(text):\n",
    "    return [lemmatizer.lemmatize(w) for w in w_tokenizer.tokenize(text)]\n",
    "\n",
    "train['text_lemmatized'] = train[\"Clean_Text\"].apply(lemmatize_text)"
   ]
  },
  {
   "cell_type": "code",
   "execution_count": 34,
   "metadata": {
    "scrolled": true
   },
   "outputs": [],
   "source": [
    "w_tokenizer = nltk.tokenize.WhitespaceTokenizer()\n",
    "lemmatizer = nltk.stem.WordNetLemmatizer()\n",
    "\n",
    "def lemmatize_text(text):\n",
    "    return [lemmatizer.lemmatize(w) for w in w_tokenizer.tokenize(text)]\n",
    "\n",
    "test['text_lemmatized'] = test[\"Clean_Text\"].apply(lemmatize_text)"
   ]
  },
  {
   "cell_type": "code",
   "execution_count": 35,
   "metadata": {},
   "outputs": [],
   "source": [
    "train_lemmatized=[]\n",
    "for i in range(train.shape[0]):\n",
    "    t=' '.join(word for word in train['text_lemmatized'][i])\n",
    "    train_lemmatized.append(t)"
   ]
  },
  {
   "cell_type": "code",
   "execution_count": 36,
   "metadata": {},
   "outputs": [],
   "source": [
    "test_lemmatized=[]\n",
    "for i in range(test.shape[0]):\n",
    "    t=' '.join(word for word in test['text_lemmatized'][i])\n",
    "    test_lemmatized.append(t)"
   ]
  },
  {
   "cell_type": "code",
   "execution_count": 37,
   "metadata": {},
   "outputs": [
    {
     "name": "stderr",
     "output_type": "stream",
     "text": [
      "C:\\ProgramData\\Anaconda3\\lib\\site-packages\\ipykernel_launcher.py:1: SettingWithCopyWarning: \n",
      "A value is trying to be set on a copy of a slice from a DataFrame.\n",
      "Try using .loc[row_indexer,col_indexer] = value instead\n",
      "\n",
      "See the caveats in the documentation: http://pandas.pydata.org/pandas-docs/stable/indexing.html#indexing-view-versus-copy\n",
      "  \"\"\"Entry point for launching an IPython kernel.\n"
     ]
    }
   ],
   "source": [
    "train[\"text_lemmatized\"]=pd.DataFrame({'comment_text':train_lemmatized})\n",
    "test[\"text_lemmatized\"]=pd.DataFrame({'comment_text':test_lemmatized})"
   ]
  },
  {
   "cell_type": "code",
   "execution_count": 38,
   "metadata": {},
   "outputs": [
    {
     "data": {
      "text/plain": [
       "'Daww He matches this background colour Im seemingly stuck with Thanks talk January UTC '"
      ]
     },
     "execution_count": 38,
     "metadata": {},
     "output_type": "execute_result"
    }
   ],
   "source": [
    "train[\"Clean_Text\"][1]"
   ]
  },
  {
   "cell_type": "code",
   "execution_count": 39,
   "metadata": {},
   "outputs": [
    {
     "data": {
      "text/plain": [
       "'Daww He match this background colour Im seemingly stuck with Thanks talk January UTC'"
      ]
     },
     "execution_count": 39,
     "metadata": {},
     "output_type": "execute_result"
    }
   ],
   "source": [
    "train[\"text_lemmatized\"][1]"
   ]
  },
  {
   "cell_type": "code",
   "execution_count": null,
   "metadata": {
    "collapsed": true
   },
   "outputs": [],
   "source": []
  },
  {
   "cell_type": "code",
   "execution_count": 40,
   "metadata": {},
   "outputs": [
    {
     "data": {
      "text/plain": [
       "' Trivia section Per WP AVTRIV I propose that we delete the trivia section or severely pare it down '"
      ]
     },
     "execution_count": 40,
     "metadata": {},
     "output_type": "execute_result"
    }
   ],
   "source": [
    "Clean_test[-3]"
   ]
  },
  {
   "cell_type": "code",
   "execution_count": 12,
   "metadata": {},
   "outputs": [
    {
     "data": {
      "text/plain": [
       "(153164, 2)"
      ]
     },
     "execution_count": 12,
     "metadata": {},
     "output_type": "execute_result"
    }
   ],
   "source": [
    "test.shape"
   ]
  },
  {
   "cell_type": "code",
   "execution_count": 41,
   "metadata": {},
   "outputs": [],
   "source": [
    "Clean_train=pd.DataFrame({'comment_text':Clean_train})\n",
    "Clean_test=pd.DataFrame({'comment_text':Clean_test})"
   ]
  },
  {
   "cell_type": "code",
   "execution_count": 42,
   "metadata": {},
   "outputs": [
    {
     "name": "stderr",
     "output_type": "stream",
     "text": [
      "C:\\ProgramData\\Anaconda3\\lib\\site-packages\\ipykernel_launcher.py:1: SettingWithCopyWarning: \n",
      "A value is trying to be set on a copy of a slice from a DataFrame.\n",
      "Try using .loc[row_indexer,col_indexer] = value instead\n",
      "\n",
      "See the caveats in the documentation: http://pandas.pydata.org/pandas-docs/stable/indexing.html#indexing-view-versus-copy\n",
      "  \"\"\"Entry point for launching an IPython kernel.\n"
     ]
    }
   ],
   "source": [
    "train[\"Clean_Text\"]=Clean_train\n",
    "test[\"Clean_Text\"]=Clean_test"
   ]
  },
  {
   "cell_type": "code",
   "execution_count": 43,
   "metadata": {},
   "outputs": [
    {
     "name": "stderr",
     "output_type": "stream",
     "text": [
      "C:\\ProgramData\\Anaconda3\\lib\\site-packages\\pandas\\core\\generic.py:6130: SettingWithCopyWarning: \n",
      "A value is trying to be set on a copy of a slice from a DataFrame\n",
      "\n",
      "See the caveats in the documentation: http://pandas.pydata.org/pandas-docs/stable/indexing.html#indexing-view-versus-copy\n",
      "  self._update_inplace(new_data)\n"
     ]
    }
   ],
   "source": [
    "train[\"Clean_Text\"].fillna(\"unknown\", inplace=True)\n",
    "test[\"Clean_Text\"].fillna(\"unknown\", inplace=True)"
   ]
  },
  {
   "cell_type": "code",
   "execution_count": 17,
   "metadata": {
    "collapsed": true
   },
   "outputs": [],
   "source": [
    "test= test[:5000]"
   ]
  },
  {
   "cell_type": "code",
   "execution_count": 47,
   "metadata": {},
   "outputs": [
    {
     "data": {
      "text/plain": [
       "toxic                                                            701\n",
       "severe_toxic                                                      72\n",
       "obscene                                                          381\n",
       "threat                                                            26\n",
       "insult                                                           359\n",
       "identity_hate                                                     63\n",
       "text_lemmatized    Explanation Why the edits made under my userna...\n",
       "dtype: object"
      ]
     },
     "execution_count": 47,
     "metadata": {},
     "output_type": "execute_result"
    }
   ],
   "source": [
    "columns = ['id', 'comment_text',\"Clean_Text\"]\n",
    "train.drop(columns,axis=1).sum()"
   ]
  },
  {
   "cell_type": "code",
   "execution_count": null,
   "metadata": {
    "collapsed": true
   },
   "outputs": [],
   "source": []
  },
  {
   "cell_type": "code",
   "execution_count": null,
   "metadata": {
    "collapsed": true
   },
   "outputs": [],
   "source": []
  },
  {
   "cell_type": "code",
   "execution_count": 44,
   "metadata": {},
   "outputs": [],
   "source": [
    "Non_toxic=train[(train['toxic']==0) & (train['severe_toxic']==0)\\\n",
    "      & (train['obscene']==0) & (train['threat']==0) & (train['insult']==0) \\\n",
    "     & (train['identity_hate']==0)]"
   ]
  },
  {
   "cell_type": "code",
   "execution_count": 45,
   "metadata": {},
   "outputs": [
    {
     "data": {
      "text/html": [
       "<div>\n",
       "<style scoped>\n",
       "    .dataframe tbody tr th:only-of-type {\n",
       "        vertical-align: middle;\n",
       "    }\n",
       "\n",
       "    .dataframe tbody tr th {\n",
       "        vertical-align: top;\n",
       "    }\n",
       "\n",
       "    .dataframe thead th {\n",
       "        text-align: right;\n",
       "    }\n",
       "</style>\n",
       "<table border=\"1\" class=\"dataframe\">\n",
       "  <thead>\n",
       "    <tr style=\"text-align: right;\">\n",
       "      <th></th>\n",
       "      <th>id</th>\n",
       "      <th>comment_text</th>\n",
       "      <th>toxic</th>\n",
       "      <th>severe_toxic</th>\n",
       "      <th>obscene</th>\n",
       "      <th>threat</th>\n",
       "      <th>insult</th>\n",
       "      <th>identity_hate</th>\n",
       "      <th>Clean_Text</th>\n",
       "      <th>text_lemmatized</th>\n",
       "    </tr>\n",
       "  </thead>\n",
       "  <tbody>\n",
       "    <tr>\n",
       "      <th>0</th>\n",
       "      <td>0000997932d777bf</td>\n",
       "      <td>Explanation\\nWhy the edits made under my usern...</td>\n",
       "      <td>0</td>\n",
       "      <td>0</td>\n",
       "      <td>0</td>\n",
       "      <td>0</td>\n",
       "      <td>0</td>\n",
       "      <td>0</td>\n",
       "      <td>Explanation Why the edits made under my userna...</td>\n",
       "      <td>Explanation Why the edits made under my userna...</td>\n",
       "    </tr>\n",
       "    <tr>\n",
       "      <th>1</th>\n",
       "      <td>000103f0d9cfb60f</td>\n",
       "      <td>D'aww! He matches this background colour I'm s...</td>\n",
       "      <td>0</td>\n",
       "      <td>0</td>\n",
       "      <td>0</td>\n",
       "      <td>0</td>\n",
       "      <td>0</td>\n",
       "      <td>0</td>\n",
       "      <td>Daww He matches this background colour Im seem...</td>\n",
       "      <td>Daww He match this background colour Im seemin...</td>\n",
       "    </tr>\n",
       "    <tr>\n",
       "      <th>2</th>\n",
       "      <td>000113f07ec002fd</td>\n",
       "      <td>Hey man, I'm really not trying to edit war. It...</td>\n",
       "      <td>0</td>\n",
       "      <td>0</td>\n",
       "      <td>0</td>\n",
       "      <td>0</td>\n",
       "      <td>0</td>\n",
       "      <td>0</td>\n",
       "      <td>Hey man Im really not trying to edit war Its j...</td>\n",
       "      <td>Hey man Im really not trying to edit war Its j...</td>\n",
       "    </tr>\n",
       "    <tr>\n",
       "      <th>3</th>\n",
       "      <td>0001b41b1c6bb37e</td>\n",
       "      <td>\"\\nMore\\nI can't make any real suggestions on ...</td>\n",
       "      <td>0</td>\n",
       "      <td>0</td>\n",
       "      <td>0</td>\n",
       "      <td>0</td>\n",
       "      <td>0</td>\n",
       "      <td>0</td>\n",
       "      <td>More I cant make any real suggestions on impr...</td>\n",
       "      <td>More I cant make any real suggestion on improv...</td>\n",
       "    </tr>\n",
       "    <tr>\n",
       "      <th>4</th>\n",
       "      <td>0001d958c54c6e35</td>\n",
       "      <td>You, sir, are my hero. Any chance you remember...</td>\n",
       "      <td>0</td>\n",
       "      <td>0</td>\n",
       "      <td>0</td>\n",
       "      <td>0</td>\n",
       "      <td>0</td>\n",
       "      <td>0</td>\n",
       "      <td>You sir are my hero Any chance you remember wh...</td>\n",
       "      <td>You sir are my hero Any chance you remember wh...</td>\n",
       "    </tr>\n",
       "  </tbody>\n",
       "</table>\n",
       "</div>"
      ],
      "text/plain": [
       "                 id                                       comment_text  toxic  \\\n",
       "0  0000997932d777bf  Explanation\\nWhy the edits made under my usern...      0   \n",
       "1  000103f0d9cfb60f  D'aww! He matches this background colour I'm s...      0   \n",
       "2  000113f07ec002fd  Hey man, I'm really not trying to edit war. It...      0   \n",
       "3  0001b41b1c6bb37e  \"\\nMore\\nI can't make any real suggestions on ...      0   \n",
       "4  0001d958c54c6e35  You, sir, are my hero. Any chance you remember...      0   \n",
       "\n",
       "   severe_toxic  obscene  threat  insult  identity_hate  \\\n",
       "0             0        0       0       0              0   \n",
       "1             0        0       0       0              0   \n",
       "2             0        0       0       0              0   \n",
       "3             0        0       0       0              0   \n",
       "4             0        0       0       0              0   \n",
       "\n",
       "                                          Clean_Text  \\\n",
       "0  Explanation Why the edits made under my userna...   \n",
       "1  Daww He matches this background colour Im seem...   \n",
       "2  Hey man Im really not trying to edit war Its j...   \n",
       "3   More I cant make any real suggestions on impr...   \n",
       "4  You sir are my hero Any chance you remember wh...   \n",
       "\n",
       "                                     text_lemmatized  \n",
       "0  Explanation Why the edits made under my userna...  \n",
       "1  Daww He match this background colour Im seemin...  \n",
       "2  Hey man Im really not trying to edit war Its j...  \n",
       "3  More I cant make any real suggestion on improv...  \n",
       "4  You sir are my hero Any chance you remember wh...  "
      ]
     },
     "execution_count": 45,
     "metadata": {},
     "output_type": "execute_result"
    }
   ],
   "source": [
    "Non_toxic.head()"
   ]
  },
  {
   "cell_type": "code",
   "execution_count": 48,
   "metadata": {},
   "outputs": [
    {
     "data": {
      "text/plain": [
       "toxic              6254\n",
       "severe_toxic       6254\n",
       "obscene            6254\n",
       "threat             6254\n",
       "insult             6254\n",
       "identity_hate      6254\n",
       "text_lemmatized    6254\n",
       "dtype: int64"
      ]
     },
     "execution_count": 48,
     "metadata": {},
     "output_type": "execute_result"
    }
   ],
   "source": [
    "Non_toxic.drop(columns,axis=1).count()"
   ]
  },
  {
   "cell_type": "code",
   "execution_count": 49,
   "metadata": {
    "scrolled": true
   },
   "outputs": [],
   "source": [
    "Toxic=train[(train['toxic']==1) | (train['severe_toxic']==1)\\\n",
    "      | (train['obscene']==1) | (train['threat']==1) | (train['insult']==1) \\\n",
    "     | (train['identity_hate']==1)]"
   ]
  },
  {
   "cell_type": "code",
   "execution_count": 50,
   "metadata": {},
   "outputs": [
    {
     "data": {
      "text/html": [
       "<div>\n",
       "<style scoped>\n",
       "    .dataframe tbody tr th:only-of-type {\n",
       "        vertical-align: middle;\n",
       "    }\n",
       "\n",
       "    .dataframe tbody tr th {\n",
       "        vertical-align: top;\n",
       "    }\n",
       "\n",
       "    .dataframe thead th {\n",
       "        text-align: right;\n",
       "    }\n",
       "</style>\n",
       "<table border=\"1\" class=\"dataframe\">\n",
       "  <thead>\n",
       "    <tr style=\"text-align: right;\">\n",
       "      <th></th>\n",
       "      <th>id</th>\n",
       "      <th>comment_text</th>\n",
       "      <th>toxic</th>\n",
       "      <th>severe_toxic</th>\n",
       "      <th>obscene</th>\n",
       "      <th>threat</th>\n",
       "      <th>insult</th>\n",
       "      <th>identity_hate</th>\n",
       "      <th>Clean_Text</th>\n",
       "      <th>text_lemmatized</th>\n",
       "    </tr>\n",
       "  </thead>\n",
       "  <tbody>\n",
       "    <tr>\n",
       "      <th>6</th>\n",
       "      <td>0002bcb3da6cb337</td>\n",
       "      <td>COCKSUCKER BEFORE YOU PISS AROUND ON MY WORK</td>\n",
       "      <td>1</td>\n",
       "      <td>1</td>\n",
       "      <td>1</td>\n",
       "      <td>0</td>\n",
       "      <td>1</td>\n",
       "      <td>0</td>\n",
       "      <td>COCKSUCKER BEFORE YOU PISS AROUND ON MY WORK</td>\n",
       "      <td>COCKSUCKER BEFORE YOU PISS AROUND ON MY WORK</td>\n",
       "    </tr>\n",
       "    <tr>\n",
       "      <th>12</th>\n",
       "      <td>0005c987bdfc9d4b</td>\n",
       "      <td>Hey... what is it..\\n@ | talk .\\nWhat is it......</td>\n",
       "      <td>1</td>\n",
       "      <td>0</td>\n",
       "      <td>0</td>\n",
       "      <td>0</td>\n",
       "      <td>0</td>\n",
       "      <td>0</td>\n",
       "      <td>Hey what is it talk What is it an exclusive gr...</td>\n",
       "      <td>Hey what is it talk What is it an exclusive gr...</td>\n",
       "    </tr>\n",
       "    <tr>\n",
       "      <th>16</th>\n",
       "      <td>0007e25b2121310b</td>\n",
       "      <td>Bye! \\n\\nDon't look, come or think of comming ...</td>\n",
       "      <td>1</td>\n",
       "      <td>0</td>\n",
       "      <td>0</td>\n",
       "      <td>0</td>\n",
       "      <td>0</td>\n",
       "      <td>0</td>\n",
       "      <td>Bye Dont look come or think of comming back To...</td>\n",
       "      <td>Bye Dont look come or think of comming back To...</td>\n",
       "    </tr>\n",
       "    <tr>\n",
       "      <th>42</th>\n",
       "      <td>001810bf8c45bf5f</td>\n",
       "      <td>You are gay or antisemmitian? \\n\\nArchangel WH...</td>\n",
       "      <td>1</td>\n",
       "      <td>0</td>\n",
       "      <td>1</td>\n",
       "      <td>0</td>\n",
       "      <td>1</td>\n",
       "      <td>1</td>\n",
       "      <td>You are gay or antisemmitian Archangel WHite T...</td>\n",
       "      <td>You are gay or antisemmitian Archangel WHite T...</td>\n",
       "    </tr>\n",
       "    <tr>\n",
       "      <th>43</th>\n",
       "      <td>00190820581d90ce</td>\n",
       "      <td>FUCK YOUR FILTHY MOTHER IN THE ASS, DRY!</td>\n",
       "      <td>1</td>\n",
       "      <td>0</td>\n",
       "      <td>1</td>\n",
       "      <td>0</td>\n",
       "      <td>1</td>\n",
       "      <td>0</td>\n",
       "      <td>FUCK YOUR FILTHY MOTHER IN THE ASS DRY</td>\n",
       "      <td>FUCK YOUR FILTHY MOTHER IN THE ASS DRY</td>\n",
       "    </tr>\n",
       "  </tbody>\n",
       "</table>\n",
       "</div>"
      ],
      "text/plain": [
       "                  id                                       comment_text  \\\n",
       "6   0002bcb3da6cb337       COCKSUCKER BEFORE YOU PISS AROUND ON MY WORK   \n",
       "12  0005c987bdfc9d4b  Hey... what is it..\\n@ | talk .\\nWhat is it......   \n",
       "16  0007e25b2121310b  Bye! \\n\\nDon't look, come or think of comming ...   \n",
       "42  001810bf8c45bf5f  You are gay or antisemmitian? \\n\\nArchangel WH...   \n",
       "43  00190820581d90ce           FUCK YOUR FILTHY MOTHER IN THE ASS, DRY!   \n",
       "\n",
       "    toxic  severe_toxic  obscene  threat  insult  identity_hate  \\\n",
       "6       1             1        1       0       1              0   \n",
       "12      1             0        0       0       0              0   \n",
       "16      1             0        0       0       0              0   \n",
       "42      1             0        1       0       1              1   \n",
       "43      1             0        1       0       1              0   \n",
       "\n",
       "                                           Clean_Text  \\\n",
       "6        COCKSUCKER BEFORE YOU PISS AROUND ON MY WORK   \n",
       "12  Hey what is it talk What is it an exclusive gr...   \n",
       "16  Bye Dont look come or think of comming back To...   \n",
       "42  You are gay or antisemmitian Archangel WHite T...   \n",
       "43            FUCK YOUR FILTHY MOTHER IN THE ASS DRY    \n",
       "\n",
       "                                      text_lemmatized  \n",
       "6        COCKSUCKER BEFORE YOU PISS AROUND ON MY WORK  \n",
       "12  Hey what is it talk What is it an exclusive gr...  \n",
       "16  Bye Dont look come or think of comming back To...  \n",
       "42  You are gay or antisemmitian Archangel WHite T...  \n",
       "43             FUCK YOUR FILTHY MOTHER IN THE ASS DRY  "
      ]
     },
     "execution_count": 50,
     "metadata": {},
     "output_type": "execute_result"
    }
   ],
   "source": [
    "Toxic.head()"
   ]
  },
  {
   "cell_type": "code",
   "execution_count": 51,
   "metadata": {},
   "outputs": [
    {
     "data": {
      "text/plain": [
       "toxic                                                            701\n",
       "severe_toxic                                                      72\n",
       "obscene                                                          381\n",
       "threat                                                            26\n",
       "insult                                                           359\n",
       "identity_hate                                                     63\n",
       "text_lemmatized    COCKSUCKER BEFORE YOU PISS AROUND ON MY WORKHe...\n",
       "dtype: object"
      ]
     },
     "execution_count": 51,
     "metadata": {},
     "output_type": "execute_result"
    }
   ],
   "source": [
    "Toxic.drop([\"id\", \"comment_text\",\"Clean_Text\"],axis=1).sum()"
   ]
  },
  {
   "cell_type": "markdown",
   "metadata": {},
   "source": [
    "## Word Cloud"
   ]
  },
  {
   "cell_type": "code",
   "execution_count": 17,
   "metadata": {},
   "outputs": [
    {
     "data": {
      "text/html": [
       "<div>\n",
       "<style>\n",
       "    .dataframe thead tr:only-child th {\n",
       "        text-align: right;\n",
       "    }\n",
       "\n",
       "    .dataframe thead th {\n",
       "        text-align: left;\n",
       "    }\n",
       "\n",
       "    .dataframe tbody tr th {\n",
       "        vertical-align: top;\n",
       "    }\n",
       "</style>\n",
       "<table border=\"1\" class=\"dataframe\">\n",
       "  <thead>\n",
       "    <tr>\n",
       "      <th></th>\n",
       "      <th colspan=\"2\" halign=\"left\">severe_toxic</th>\n",
       "      <th colspan=\"2\" halign=\"left\">obscene</th>\n",
       "      <th colspan=\"2\" halign=\"left\">threat</th>\n",
       "      <th colspan=\"2\" halign=\"left\">insult</th>\n",
       "      <th colspan=\"2\" halign=\"left\">identity_hate</th>\n",
       "    </tr>\n",
       "    <tr>\n",
       "      <th>severe_toxic</th>\n",
       "      <th>0</th>\n",
       "      <th>1</th>\n",
       "      <th>0</th>\n",
       "      <th>1</th>\n",
       "      <th>0</th>\n",
       "      <th>1</th>\n",
       "      <th>0</th>\n",
       "      <th>1</th>\n",
       "      <th>0</th>\n",
       "      <th>1</th>\n",
       "    </tr>\n",
       "    <tr>\n",
       "      <th>toxic</th>\n",
       "      <th></th>\n",
       "      <th></th>\n",
       "      <th></th>\n",
       "      <th></th>\n",
       "      <th></th>\n",
       "      <th></th>\n",
       "      <th></th>\n",
       "      <th></th>\n",
       "      <th></th>\n",
       "      <th></th>\n",
       "    </tr>\n",
       "  </thead>\n",
       "  <tbody>\n",
       "    <tr>\n",
       "      <th>0</th>\n",
       "      <td>144277</td>\n",
       "      <td>0</td>\n",
       "      <td>143754</td>\n",
       "      <td>523</td>\n",
       "      <td>144248</td>\n",
       "      <td>29</td>\n",
       "      <td>143744</td>\n",
       "      <td>533</td>\n",
       "      <td>144174</td>\n",
       "      <td>103</td>\n",
       "    </tr>\n",
       "    <tr>\n",
       "      <th>1</th>\n",
       "      <td>13699</td>\n",
       "      <td>1595</td>\n",
       "      <td>7368</td>\n",
       "      <td>7926</td>\n",
       "      <td>14845</td>\n",
       "      <td>449</td>\n",
       "      <td>7950</td>\n",
       "      <td>7344</td>\n",
       "      <td>13992</td>\n",
       "      <td>1302</td>\n",
       "    </tr>\n",
       "  </tbody>\n",
       "</table>\n",
       "</div>"
      ],
      "text/plain": [
       "             severe_toxic       obscene        threat       insult        \\\n",
       "severe_toxic            0     1       0     1       0    1       0     1   \n",
       "toxic                                                                      \n",
       "0                  144277     0  143754   523  144248   29  143744   533   \n",
       "1                   13699  1595    7368  7926   14845  449    7950  7344   \n",
       "\n",
       "             identity_hate        \n",
       "severe_toxic             0     1  \n",
       "toxic                             \n",
       "0                   144174   103  \n",
       "1                    13992  1302  "
      ]
     },
     "execution_count": 17,
     "metadata": {},
     "output_type": "execute_result"
    }
   ],
   "source": [
    "#Crosstab\n",
    "# Since technically a crosstab between all 6 classes is impossible to vizualize, lets take a \n",
    "# look at toxic with other tags\n",
    "main_col=\"toxic\"\n",
    "corr_mats=[]\n",
    "for other_col in train.drop([\"id\", \"comment_text\",\"Clean_Text\",\"toxic\"],axis=1):\n",
    "    confusion_matrix = pd.crosstab(train[main_col], train[other_col])\n",
    "    corr_mats.append(confusion_matrix)\n",
    "out = pd.concat(corr_mats,axis=1,keys=train.drop([\"id\", \"comment_text\",\"Clean_Text\",\"toxic\"],axis=1))\n",
    "\n",
    "out"
   ]
  },
  {
   "cell_type": "code",
   "execution_count": 22,
   "metadata": {
    "collapsed": true
   },
   "outputs": [],
   "source": [
    "from wordcloud import WordCloud, STOPWORDS\n",
    "import matplotlib.pyplot as plt"
   ]
  },
  {
   "cell_type": "code",
   "execution_count": 57,
   "metadata": {
    "collapsed": true
   },
   "outputs": [],
   "source": [
    "cloud=WordCloud(stopwords=STOPWORDS,background_color='white',width=4500,height=4000).generate(' '.join(Non_toxic[\"Clean_Text\"]))"
   ]
  },
  {
   "cell_type": "code",
   "execution_count": 61,
   "metadata": {},
   "outputs": [
    {
     "data": {
      "image/png": "[encoded data removed]",
      "text/plain": [
       "<matplotlib.figure.Figure at 0x17721b8ef98>"
      ]
     },
     "metadata": {},
     "output_type": "display_data"
    }
   ],
   "source": [
    "plt.subplots(figsize=(10,10))\n",
    "plt.imshow(cloud)\n",
    "plt.axis(\"off\")\n",
    "plt.show()"
   ]
  },
  {
   "cell_type": "code",
   "execution_count": 66,
   "metadata": {
    "collapsed": true
   },
   "outputs": [],
   "source": [
    "cloud=WordCloud(stopwords=STOPWORDS,background_color='white',width=1500,height=1000).generate(' '.join(Toxic[\"Clean_Text\"]))"
   ]
  },
  {
   "cell_type": "code",
   "execution_count": 67,
   "metadata": {},
   "outputs": [
    {
     "data": {
      "image/png": "[encoded data removed]",
      "text/plain": [
       "<matplotlib.figure.Figure at 0x177716d60b8>"
      ]
     },
     "metadata": {},
     "output_type": "display_data"
    }
   ],
   "source": [
    "plt.subplots(figsize=(10,10))\n",
    "plt.imshow(cloud)\n",
    "plt.axis(\"off\")\n",
    "plt.show()"
   ]
  },
  {
   "cell_type": "code",
   "execution_count": null,
   "metadata": {
    "collapsed": true
   },
   "outputs": [],
   "source": []
  },
  {
   "cell_type": "code",
   "execution_count": null,
   "metadata": {
    "collapsed": true
   },
   "outputs": [],
   "source": []
  },
  {
   "cell_type": "code",
   "execution_count": 25,
   "metadata": {},
   "outputs": [
    {
     "data": {
      "text/plain": [
       "(16225, 9)"
      ]
     },
     "execution_count": 25,
     "metadata": {},
     "output_type": "execute_result"
    }
   ],
   "source": [
    "Toxic.shape"
   ]
  },
  {
   "cell_type": "code",
   "execution_count": 26,
   "metadata": {
    "collapsed": true
   },
   "outputs": [],
   "source": [
    "Sample=Toxic[:10000].append(Non_toxic[:4000])"
   ]
  },
  {
   "cell_type": "code",
   "execution_count": 27,
   "metadata": {},
   "outputs": [
    {
     "data": {
      "text/plain": [
       "(14000, 9)"
      ]
     },
     "execution_count": 27,
     "metadata": {},
     "output_type": "execute_result"
    }
   ],
   "source": [
    "Sample.shape"
   ]
  },
  {
   "cell_type": "code",
   "execution_count": null,
   "metadata": {
    "collapsed": true,
    "scrolled": true
   },
   "outputs": [],
   "source": []
  },
  {
   "cell_type": "code",
   "execution_count": 52,
   "metadata": {},
   "outputs": [],
   "source": [
    "#train_text = train['comment_text']\n",
    "train_text = train['text_lemmatized']\n",
    "test_text = test['text_lemmatized']\n",
    "all_text = pd.concat([train_text, test_text])"
   ]
  },
  {
   "cell_type": "code",
   "execution_count": 53,
   "metadata": {},
   "outputs": [
    {
     "data": {
      "text/plain": [
       "14000"
      ]
     },
     "execution_count": 53,
     "metadata": {},
     "output_type": "execute_result"
    }
   ],
   "source": [
    "len(all_text)"
   ]
  },
  {
   "cell_type": "code",
   "execution_count": null,
   "metadata": {
    "collapsed": true
   },
   "outputs": [],
   "source": []
  },
  {
   "cell_type": "code",
   "execution_count": 54,
   "metadata": {},
   "outputs": [],
   "source": [
    "word_vectorizer = TfidfVectorizer(\n",
    "    sublinear_tf=True,\n",
    "    strip_accents='unicode',\n",
    "    analyzer='word',\n",
    "    token_pattern=r'\\w{1,}',\n",
    "    stop_words='english',\n",
    "    ngram_range=(1, 1),\n",
    "    max_features=10000)\n",
    "word_vectorizer.fit(all_text)\n",
    "train_word_features = word_vectorizer.transform(train_text)\n",
    "test_word_features = word_vectorizer.transform(test_text)"
   ]
  },
  {
   "cell_type": "code",
   "execution_count": 55,
   "metadata": {},
   "outputs": [
    {
     "data": {
      "text/plain": [
       "10000"
      ]
     },
     "execution_count": 55,
     "metadata": {},
     "output_type": "execute_result"
    }
   ],
   "source": [
    "len(word_vectorizer.get_feature_names())"
   ]
  },
  {
   "cell_type": "code",
   "execution_count": 56,
   "metadata": {
    "scrolled": true
   },
   "outputs": [
    {
     "data": {
      "text/plain": [
       "['aa', 'aafco', 'aaron', 'abbey', 'abbreviation']"
      ]
     },
     "execution_count": 56,
     "metadata": {},
     "output_type": "execute_result"
    }
   ],
   "source": [
    "word_vectorizer.get_feature_names()[:5]"
   ]
  },
  {
   "cell_type": "code",
   "execution_count": 57,
   "metadata": {
    "scrolled": true
   },
   "outputs": [],
   "source": [
    "char_vectorizer = TfidfVectorizer(\n",
    "    sublinear_tf=True,\n",
    "    strip_accents='unicode',\n",
    "    analyzer='word',\n",
    "    stop_words='english',\n",
    "    ngram_range=(2,3),\n",
    "    max_features=50000)\n",
    "char_vectorizer.fit(all_text)\n",
    "train_char_features = char_vectorizer.transform(train_text)\n",
    "test_char_features = char_vectorizer.transform(test_text)"
   ]
  },
  {
   "cell_type": "code",
   "execution_count": 58,
   "metadata": {},
   "outputs": [
    {
     "data": {
      "text/plain": [
       "['aaaaaaaaa jpg',\n",
       " 'aafco certified',\n",
       " 'aaghiren naan',\n",
       " 'aaron johnston',\n",
       " 'aaron swartz']"
      ]
     },
     "execution_count": 58,
     "metadata": {},
     "output_type": "execute_result"
    }
   ],
   "source": [
    "char_vectorizer.get_feature_names()[:5]"
   ]
  },
  {
   "cell_type": "code",
   "execution_count": 59,
   "metadata": {},
   "outputs": [],
   "source": [
    "feature_name=char_vectorizer.get_feature_names() + word_vectorizer.get_feature_names()"
   ]
  },
  {
   "cell_type": "code",
   "execution_count": 60,
   "metadata": {},
   "outputs": [],
   "source": [
    "train_features = hstack([train_char_features, train_word_features])\n",
    "test_features = hstack([test_char_features, test_word_features])"
   ]
  },
  {
   "cell_type": "code",
   "execution_count": 61,
   "metadata": {},
   "outputs": [],
   "source": [
    "# Only test for word\n",
    "feature_name=word_vectorizer.get_feature_names()\n",
    "train_features = train_word_features\n",
    "test_features = test_word_features"
   ]
  },
  {
   "cell_type": "code",
   "execution_count": 62,
   "metadata": {},
   "outputs": [],
   "source": [
    "# Only test for word combination\n",
    "feature_name=char_vectorizer.get_feature_names()\n",
    "train_features = train_char_features\n",
    "test_features = test_char_features"
   ]
  },
  {
   "cell_type": "code",
   "execution_count": 63,
   "metadata": {
    "scrolled": true
   },
   "outputs": [
    {
     "data": {
      "text/html": [
       "<div>\n",
       "<style scoped>\n",
       "    .dataframe tbody tr th:only-of-type {\n",
       "        vertical-align: middle;\n",
       "    }\n",
       "\n",
       "    .dataframe tbody tr th {\n",
       "        vertical-align: top;\n",
       "    }\n",
       "\n",
       "    .dataframe thead th {\n",
       "        text-align: right;\n",
       "    }\n",
       "</style>\n",
       "<table border=\"1\" class=\"dataframe\">\n",
       "  <thead>\n",
       "    <tr style=\"text-align: right;\">\n",
       "      <th></th>\n",
       "      <th>id</th>\n",
       "    </tr>\n",
       "  </thead>\n",
       "  <tbody>\n",
       "    <tr>\n",
       "      <th>0</th>\n",
       "      <td>00001cee341fdb12</td>\n",
       "    </tr>\n",
       "    <tr>\n",
       "      <th>1</th>\n",
       "      <td>0000247867823ef7</td>\n",
       "    </tr>\n",
       "    <tr>\n",
       "      <th>2</th>\n",
       "      <td>00013b17ad220c46</td>\n",
       "    </tr>\n",
       "    <tr>\n",
       "      <th>3</th>\n",
       "      <td>00017563c3f7919a</td>\n",
       "    </tr>\n",
       "    <tr>\n",
       "      <th>4</th>\n",
       "      <td>00017695ad8997eb</td>\n",
       "    </tr>\n",
       "  </tbody>\n",
       "</table>\n",
       "</div>"
      ],
      "text/plain": [
       "                 id\n",
       "0  00001cee341fdb12\n",
       "1  0000247867823ef7\n",
       "2  00013b17ad220c46\n",
       "3  00017563c3f7919a\n",
       "4  00017695ad8997eb"
      ]
     },
     "execution_count": 63,
     "metadata": {},
     "output_type": "execute_result"
    }
   ],
   "source": [
    "submission = pd.DataFrame.from_dict({'id': test['id']})\n",
    "submission.head()"
   ]
  },
  {
   "cell_type": "code",
   "execution_count": 85,
   "metadata": {
    "scrolled": true
   },
   "outputs": [
    {
     "name": "stdout",
     "output_type": "stream",
     "text": [
      "CV score for class toxic is 0.7541218626481211\n",
      "CV score for class severe_toxic is 0.8058609200337221\n",
      "CV score for class obscene is 0.7769761394151246\n",
      "CV score for class threat is 0.6712894601961352\n",
      "CV score for class insult is 0.7916402012165819\n",
      "CV score for class identity_hate is 0.6946960930468844\n",
      "Total CV score is 0.7490974460927614\n"
     ]
    }
   ],
   "source": [
    "scores = []\n",
    "coef = []\n",
    "submission = pd.DataFrame.from_dict({'id': test['id']})\n",
    "pred = pd.DataFrame.from_dict({'id': test['id']})\n",
    "for class_name in class_names:\n",
    "    train_target = train[class_name]\n",
    "    classifier = LogisticRegression(C=0.1, solver='sag')\n",
    "\n",
    "    cv_score = np.mean(cross_val_score(classifier, train_features, train_target, cv=3, scoring='roc_auc'))\n",
    "    scores.append(cv_score)\n",
    "    print('CV score for class {} is {}'.format(class_name, cv_score))\n",
    "\n",
    "    classifier.fit(train_features, train_target)\n",
    "    c = classifier.coef_\n",
    "    coef.append(c)\n",
    "    submission[class_name] = classifier.predict_proba(test_features)[:, 1]\n",
    "    pred[class_name] = classifier.predict(test_features)\n",
    "\n",
    "print('Total CV score is {}'.format(np.mean(scores)))\n"
   ]
  },
  {
   "cell_type": "code",
   "execution_count": 68,
   "metadata": {
    "collapsed": true
   },
   "outputs": [],
   "source": [
    "LogisticRegression?"
   ]
  },
  {
   "cell_type": "code",
   "execution_count": null,
   "metadata": {
    "collapsed": true
   },
   "outputs": [],
   "source": [
    "pred.sort_values('id').head()"
   ]
  },
  {
   "cell_type": "code",
   "execution_count": null,
   "metadata": {
    "collapsed": true
   },
   "outputs": [],
   "source": [
    "test.drop('comment_text',axis=1).sort_values('id').head()"
   ]
  },
  {
   "cell_type": "code",
   "execution_count": 190,
   "metadata": {},
   "outputs": [
    {
     "data": {
      "text/plain": [
       "toxic            13612\n",
       "severe_toxic       547\n",
       "obscene           7498\n",
       "threat               0\n",
       "insult            5295\n",
       "identity_hate      133\n",
       "dtype: int64"
      ]
     },
     "execution_count": 190,
     "metadata": {},
     "output_type": "execute_result"
    }
   ],
   "source": [
    "pred.drop(\"id\",axis=1).sum()"
   ]
  },
  {
   "cell_type": "code",
   "execution_count": null,
   "metadata": {
    "collapsed": true
   },
   "outputs": [],
   "source": [
    "classifier"
   ]
  },
  {
   "cell_type": "code",
   "execution_count": 191,
   "metadata": {
    "collapsed": true
   },
   "outputs": [],
   "source": [
    "submission.to_csv('submission.csv', index=False)"
   ]
  },
  {
   "cell_type": "code",
   "execution_count": 65,
   "metadata": {},
   "outputs": [
    {
     "ename": "NameError",
     "evalue": "name 'Sample' is not defined",
     "output_type": "error",
     "traceback": [
      "\u001b[1;31m---------------------------------------------------------------------------\u001b[0m",
      "\u001b[1;31mNameError\u001b[0m                                 Traceback (most recent call last)",
      "\u001b[1;32m<ipython-input-65-df542b4b29bf>\u001b[0m in \u001b[0;36m<module>\u001b[1;34m\u001b[0m\n\u001b[0;32m      1\u001b[0m \u001b[1;32mfrom\u001b[0m \u001b[0msklearn\u001b[0m\u001b[1;33m.\u001b[0m\u001b[0mmetrics\u001b[0m \u001b[1;32mimport\u001b[0m \u001b[0mconfusion_matrix\u001b[0m\u001b[1;33m,\u001b[0m \u001b[0maccuracy_score\u001b[0m\u001b[1;33m\u001b[0m\u001b[1;33m\u001b[0m\u001b[0m\n\u001b[0;32m      2\u001b[0m \u001b[1;33m\u001b[0m\u001b[0m\n\u001b[1;32m----> 3\u001b[1;33m \u001b[0mconfusion\u001b[0m \u001b[1;33m=\u001b[0m \u001b[0mconfusion_matrix\u001b[0m\u001b[1;33m(\u001b[0m\u001b[0mSample\u001b[0m\u001b[1;33m.\u001b[0m\u001b[0mdrop\u001b[0m\u001b[1;33m(\u001b[0m\u001b[1;33m[\u001b[0m\u001b[1;34m'id'\u001b[0m\u001b[1;33m,\u001b[0m\u001b[1;34m'comment_text'\u001b[0m\u001b[1;33m]\u001b[0m\u001b[1;33m,\u001b[0m\u001b[0maxis\u001b[0m\u001b[1;33m=\u001b[0m\u001b[1;36m1\u001b[0m\u001b[1;33m)\u001b[0m\u001b[1;33m,\u001b[0m \u001b[0mpred\u001b[0m\u001b[1;33m.\u001b[0m\u001b[0mdrop\u001b[0m\u001b[1;33m(\u001b[0m\u001b[1;34m'id'\u001b[0m\u001b[1;33m,\u001b[0m\u001b[0maxis\u001b[0m\u001b[1;33m=\u001b[0m\u001b[1;36m1\u001b[0m\u001b[1;33m)\u001b[0m\u001b[1;33m)\u001b[0m\u001b[1;33m\u001b[0m\u001b[1;33m\u001b[0m\u001b[0m\n\u001b[0m\u001b[0;32m      4\u001b[0m df = pd.DataFrame(confusion, \n\u001b[0;32m      5\u001b[0m                      index = [i for i in range(0,10)], columns = [i for i in range(0,10)])\n",
      "\u001b[1;31mNameError\u001b[0m: name 'Sample' is not defined"
     ]
    }
   ],
   "source": [
    "from sklearn.metrics import confusion_matrix, accuracy_score\n",
    "\n",
    "confusion = confusion_matrix(Sample.drop(['id','comment_text'],axis=1), pred.drop('id',axis=1))\n",
    "df = pd.DataFrame(confusion, \n",
    "                     index = [i for i in range(0,10)], columns = [i for i in range(0,10)])\n",
    "\n",
    "plt.figure(figsize=(5.5,4))\n",
    "sns.heatmap(df, annot=True)\n",
    "plt.title('SVM Linear Kernel \\nAccuracy:{0:.3f}'.format(accuracy_score(test, \n",
    "                                                                       pred)))\n",
    "plt.ylabel('True label')\n",
    "plt.xlabel('Predicted label')"
   ]
  },
  {
   "cell_type": "code",
   "execution_count": 86,
   "metadata": {},
   "outputs": [
    {
     "data": {
      "text/plain": [
       "[array([[ 0.        ,  0.        ,  0.        , ..., -0.00133349,\n",
       "          0.        ,  0.        ]]),\n",
       " array([[ 0.        ,  0.        ,  0.        , ..., -0.00014087,\n",
       "          0.        ,  0.        ]]),\n",
       " array([[0.        , 0.        , 0.        , ..., 0.01293528, 0.        ,\n",
       "         0.        ]]),\n",
       " array([[ 0.00000000e+00,  0.00000000e+00,  0.00000000e+00, ...,\n",
       "         -5.13007072e-05,  0.00000000e+00,  0.00000000e+00]]),\n",
       " array([[0.        , 0.        , 0.        , ..., 0.01298338, 0.        ,\n",
       "         0.        ]]),\n",
       " array([[ 0.        ,  0.        ,  0.        , ..., -0.00012279,\n",
       "          0.        ,  0.        ]])]"
      ]
     },
     "execution_count": 86,
     "metadata": {},
     "output_type": "execute_result"
    }
   ],
   "source": [
    "coef"
   ]
  },
  {
   "cell_type": "code",
   "execution_count": 87,
   "metadata": {},
   "outputs": [],
   "source": [
    "coef=np.concatenate( coef, axis=0 )"
   ]
  },
  {
   "cell_type": "code",
   "execution_count": 88,
   "metadata": {},
   "outputs": [
    {
     "data": {
      "text/plain": [
       "array([[ 0.00000000e+00,  0.00000000e+00,  0.00000000e+00, ...,\n",
       "        -1.33348987e-03,  0.00000000e+00,  0.00000000e+00],\n",
       "       [ 0.00000000e+00,  0.00000000e+00,  0.00000000e+00, ...,\n",
       "        -1.40871983e-04,  0.00000000e+00,  0.00000000e+00],\n",
       "       [ 0.00000000e+00,  0.00000000e+00,  0.00000000e+00, ...,\n",
       "         1.29352782e-02,  0.00000000e+00,  0.00000000e+00],\n",
       "       [ 0.00000000e+00,  0.00000000e+00,  0.00000000e+00, ...,\n",
       "        -5.13007072e-05,  0.00000000e+00,  0.00000000e+00],\n",
       "       [ 0.00000000e+00,  0.00000000e+00,  0.00000000e+00, ...,\n",
       "         1.29833825e-02,  0.00000000e+00,  0.00000000e+00],\n",
       "       [ 0.00000000e+00,  0.00000000e+00,  0.00000000e+00, ...,\n",
       "        -1.22794789e-04,  0.00000000e+00,  0.00000000e+00]])"
      ]
     },
     "execution_count": 88,
     "metadata": {},
     "output_type": "execute_result"
    }
   ],
   "source": [
    "coef"
   ]
  },
  {
   "cell_type": "code",
   "execution_count": 76,
   "metadata": {},
   "outputs": [
    {
     "data": {
      "text/plain": [
       "Index(['toxic', 'severe_toxic', 'obscene', 'threat', 'insult', 'identity_hate',\n",
       "       'text_lemmatized'],\n",
       "      dtype='object')"
      ]
     },
     "execution_count": 76,
     "metadata": {},
     "output_type": "execute_result"
    }
   ],
   "source": [
    "train.drop(columns,axis=1).columns"
   ]
  },
  {
   "cell_type": "code",
   "execution_count": null,
   "metadata": {},
   "outputs": [],
   "source": [
    "pd.unique"
   ]
  },
  {
   "cell_type": "code",
   "execution_count": 69,
   "metadata": {},
   "outputs": [],
   "source": [
    "target=train.drop(columns,axis=1).columns"
   ]
  },
  {
   "cell_type": "code",
   "execution_count": 70,
   "metadata": {},
   "outputs": [
    {
     "data": {
      "text/plain": [
       "Index(['toxic', 'severe_toxic', 'obscene', 'threat', 'insult', 'identity_hate',\n",
       "       'text_lemmatized'],\n",
       "      dtype='object')"
      ]
     },
     "execution_count": 70,
     "metadata": {},
     "output_type": "execute_result"
    }
   ],
   "source": [
    "target"
   ]
  },
  {
   "cell_type": "code",
   "execution_count": 71,
   "metadata": {},
   "outputs": [
    {
     "data": {
      "text/plain": [
       "<7000x50000 sparse matrix of type '<class 'numpy.float64'>'\n",
       "\twith 85963 stored elements in Compressed Sparse Row format>"
      ]
     },
     "execution_count": 71,
     "metadata": {},
     "output_type": "execute_result"
    }
   ],
   "source": [
    "train_features"
   ]
  },
  {
   "cell_type": "code",
   "execution_count": 72,
   "metadata": {},
   "outputs": [
    {
     "data": {
      "text/plain": [
       "<zip at 0x2223110b7c8>"
      ]
     },
     "execution_count": 72,
     "metadata": {},
     "output_type": "execute_result"
    }
   ],
   "source": [
    "zip(classifier.coef_.transpose(),train_features)"
   ]
  },
  {
   "cell_type": "code",
   "execution_count": 78,
   "metadata": {},
   "outputs": [
    {
     "ename": "AttributeError",
     "evalue": "get_feature_name not found",
     "output_type": "error",
     "traceback": [
      "\u001b[1;31m---------------------------------------------------------------------------\u001b[0m",
      "\u001b[1;31mAttributeError\u001b[0m                            Traceback (most recent call last)",
      "\u001b[1;32m<ipython-input-78-0fa152a97ae5>\u001b[0m in \u001b[0;36m<module>\u001b[1;34m\u001b[0m\n\u001b[1;32m----> 1\u001b[1;33m \u001b[0mtrain_features\u001b[0m\u001b[1;33m.\u001b[0m\u001b[0mget_feature_name\u001b[0m\u001b[1;33m(\u001b[0m\u001b[1;33m)\u001b[0m\u001b[1;33m\u001b[0m\u001b[1;33m\u001b[0m\u001b[0m\n\u001b[0m",
      "\u001b[1;32mC:\\ProgramData\\Anaconda3\\lib\\site-packages\\scipy\\sparse\\base.py\u001b[0m in \u001b[0;36m__getattr__\u001b[1;34m(self, attr)\u001b[0m\n\u001b[0;32m    687\u001b[0m             \u001b[1;32mreturn\u001b[0m \u001b[0mself\u001b[0m\u001b[1;33m.\u001b[0m\u001b[0mgetnnz\u001b[0m\u001b[1;33m(\u001b[0m\u001b[1;33m)\u001b[0m\u001b[1;33m\u001b[0m\u001b[1;33m\u001b[0m\u001b[0m\n\u001b[0;32m    688\u001b[0m         \u001b[1;32melse\u001b[0m\u001b[1;33m:\u001b[0m\u001b[1;33m\u001b[0m\u001b[1;33m\u001b[0m\u001b[0m\n\u001b[1;32m--> 689\u001b[1;33m             \u001b[1;32mraise\u001b[0m \u001b[0mAttributeError\u001b[0m\u001b[1;33m(\u001b[0m\u001b[0mattr\u001b[0m \u001b[1;33m+\u001b[0m \u001b[1;34m\" not found\"\u001b[0m\u001b[1;33m)\u001b[0m\u001b[1;33m\u001b[0m\u001b[1;33m\u001b[0m\u001b[0m\n\u001b[0m\u001b[0;32m    690\u001b[0m \u001b[1;33m\u001b[0m\u001b[0m\n\u001b[0;32m    691\u001b[0m     \u001b[1;32mdef\u001b[0m \u001b[0mtranspose\u001b[0m\u001b[1;33m(\u001b[0m\u001b[0mself\u001b[0m\u001b[1;33m,\u001b[0m \u001b[0maxes\u001b[0m\u001b[1;33m=\u001b[0m\u001b[1;32mNone\u001b[0m\u001b[1;33m,\u001b[0m \u001b[0mcopy\u001b[0m\u001b[1;33m=\u001b[0m\u001b[1;32mFalse\u001b[0m\u001b[1;33m)\u001b[0m\u001b[1;33m:\u001b[0m\u001b[1;33m\u001b[0m\u001b[1;33m\u001b[0m\u001b[0m\n",
      "\u001b[1;31mAttributeError\u001b[0m: get_feature_name not found"
     ]
    }
   ],
   "source": [
    "def input(text):\n",
    "    result = model(\"text\") "
   ]
  },
  {
   "cell_type": "code",
   "execution_count": null,
   "metadata": {},
   "outputs": [],
   "source": []
  },
  {
   "cell_type": "code",
   "execution_count": 73,
   "metadata": {
    "collapsed": true
   },
   "outputs": [
    {
     "data": {
      "text/plain": [
       "['brute vfd',\n",
       " 'bsvrr emd',\n",
       " 'bsvrr emd fp',\n",
       " 'bsz suggest',\n",
       " 'bsz suggest report',\n",
       " 'btconnect com',\n",
       " 'btw asked',\n",
       " 'btw did',\n",
       " 'btw dont',\n",
       " 'btw im',\n",
       " 'btw ive',\n",
       " 'btw just',\n",
       " 'btw sorry',\n",
       " 'btw thanks',\n",
       " 'btw youre',\n",
       " 'bubble tea',\n",
       " 'budak lelaki',\n",
       " 'buddha dharma',\n",
       " 'buddha dharma society',\n",
       " 'buddha parivraja',\n",
       " 'buddhist organization',\n",
       " 'buddhist organization nepal',\n",
       " 'buddhist practitioner',\n",
       " 'buddy xeeron',\n",
       " 'budget accommodation',\n",
       " 'buenos aires',\n",
       " 'build article',\n",
       " 'build consensus',\n",
       " 'build consensus resolve',\n",
       " 'build encyclopedia',\n",
       " 'build ukraine',\n",
       " 'building albury',\n",
       " 'building im',\n",
       " 'building wa',\n",
       " 'building year',\n",
       " 'built philip',\n",
       " 'built philip gronowski',\n",
       " 'built site',\n",
       " 'bulgarian empire',\n",
       " 'bulgarian nationalistic',\n",
       " 'bulgarian nationalistic propaganda',\n",
       " 'bull shit',\n",
       " 'bullet heart',\n",
       " 'bullet point',\n",
       " 'bulleted list',\n",
       " 'bulletin board',\n",
       " 'bullshit bullshit',\n",
       " 'bullshit claim',\n",
       " 'bullshit got',\n",
       " 'bullshit let',\n",
       " 'bullshit lie',\n",
       " 'bullshit said',\n",
       " 'bullshit story',\n",
       " 'bullshit talk',\n",
       " 'bullshit talk page',\n",
       " 'bullzeye self',\n",
       " 'bullzeye self jpg',\n",
       " 'bunch crap',\n",
       " 'bunch people',\n",
       " 'bungee jumping',\n",
       " 'bungee jumping platform',\n",
       " 'burden proof',\n",
       " 'bureau ha',\n",
       " 'bureaucrat discussion',\n",
       " 'burn cell',\n",
       " 'burn deck',\n",
       " 'burn hell',\n",
       " 'burning fossil',\n",
       " 'burning fossil fuel',\n",
       " 'burning platform',\n",
       " 'bury lawn',\n",
       " 'bury lawn school',\n",
       " 'bus ride',\n",
       " 'bus stop',\n",
       " 'busby ha',\n",
       " 'buses route',\n",
       " 'bush administration',\n",
       " 'bush approval',\n",
       " 'bush approval rating',\n",
       " 'bush article',\n",
       " 'bush did',\n",
       " 'bush list',\n",
       " 'bush presidential',\n",
       " 'bush presidential campaign',\n",
       " 'bush sentence',\n",
       " 'bush wa',\n",
       " 'business case',\n",
       " 'business case summary',\n",
       " 'business center',\n",
       " 'business directory',\n",
       " 'business directory understand',\n",
       " 'business economic',\n",
       " 'business economic topic',\n",
       " 'business gain',\n",
       " 'business industry',\n",
       " 'business industry insight',\n",
       " 'business machine',\n",
       " 'business non',\n",
       " 'business wikipedia',\n",
       " 'business wikipedia fucking',\n",
       " 'businessinsider com',\n",
       " 'busy busy',\n",
       " 'busy day',\n",
       " 'busy lately',\n",
       " 'busy thing',\n",
       " 'busy wa',\n",
       " 'butt face',\n",
       " 'butt row',\n",
       " 'butt row row',\n",
       " 'butt sex',\n",
       " 'butter butter',\n",
       " 'butter lamp',\n",
       " 'butter substitute',\n",
       " 'butterfinger jpg',\n",
       " 'butters jimmy',\n",
       " 'button tool',\n",
       " 'button tool bar',\n",
       " 'buy gold',\n",
       " 'buy gold silver',\n",
       " 'buy snowglobe',\n",
       " 'buying guardian',\n",
       " 'buying guardian retrieved',\n",
       " 'buying new',\n",
       " 'bwbuscard small',\n",
       " 'bwbuscard small jpg',\n",
       " 'bwilkins talk',\n",
       " 'bye bye',\n",
       " 'byzantine empire',\n",
       " 'ca canada',\n",
       " 'cabo sitting',\n",
       " 'caesars wife',\n",
       " 'caesars wife rule',\n",
       " 'cahoot satan',\n",
       " 'caitlyn jenner',\n",
       " 'cajon pass',\n",
       " 'calcios player',\n",
       " 'calendar used',\n",
       " 'calendar used egyptian',\n",
       " 'california adventure',\n",
       " 'california chula',\n",
       " 'california chula vista',\n",
       " 'california constitution',\n",
       " 'called article',\n",
       " 'called azerbaijani',\n",
       " 'called azerbaijani turks',\n",
       " 'called big',\n",
       " 'called christian',\n",
       " 'called christian arab',\n",
       " 'called consensus',\n",
       " 'called controversy',\n",
       " 'called day',\n",
       " 'called dumb',\n",
       " 'called english',\n",
       " 'called evil',\n",
       " 'called genocide',\n",
       " 'called good',\n",
       " 'called good article',\n",
       " 'called haughty',\n",
       " 'called history',\n",
       " 'called hot',\n",
       " 'called hot dog',\n",
       " 'called huns',\n",
       " 'called huns massagetae',\n",
       " 'called jesus',\n",
       " 'called left',\n",
       " 'called mr',\n",
       " 'called oriental',\n",
       " 'called outline',\n",
       " 'called post',\n",
       " 'called post industrial',\n",
       " 'called question',\n",
       " 'called rangers',\n",
       " 'called rangers fc',\n",
       " 'called real',\n",
       " 'called right',\n",
       " 'called right wing',\n",
       " 'called self',\n",
       " 'called social',\n",
       " 'called social network',\n",
       " 'called troll',\n",
       " 'called wp',\n",
       " 'calling apostolate',\n",
       " 'calling apostolate catholic',\n",
       " 'calling bullshit',\n",
       " 'calling childish',\n",
       " 'calling dick',\n",
       " 'calling faggot',\n",
       " 'calling idiot',\n",
       " 'calling liar',\n",
       " 'calling nazi',\n",
       " 'calling question',\n",
       " 'calling right',\n",
       " 'calling right wing',\n",
       " 'calling rogue',\n",
       " 'calling stupid',\n",
       " 'calling user',\n",
       " 'calling vandal',\n",
       " 'calvin coolidge',\n",
       " 'calvin coolidge progressive',\n",
       " 'cambodian genocide',\n",
       " 'cambodian genocide article',\n",
       " 'cambridge meetup',\n",
       " 'cambridge university',\n",
       " 'cambridge university press',\n",
       " 'came agreement',\n",
       " 'came battle',\n",
       " 'came better',\n",
       " 'came conclusion',\n",
       " 'came existence',\n",
       " 'came existence dissolution',\n",
       " 'came idea',\n",
       " 'came india',\n",
       " 'came intending',\n",
       " 'came intending prove',\n",
       " 'came later',\n",
       " 'came like',\n",
       " 'came page',\n",
       " 'came wa',\n",
       " 'came year',\n",
       " 'cameron known',\n",
       " 'cameron known lord',\n",
       " 'camille paglia',\n",
       " 'camp badge',\n",
       " 'camp rock',\n",
       " 'camp wa',\n",
       " 'campaign george',\n",
       " 'campaign george bush',\n",
       " 'campaign going',\n",
       " 'campbell case',\n",
       " 'canada ha',\n",
       " 'canada national',\n",
       " 'canada national football',\n",
       " 'canada united',\n",
       " 'canada united states',\n",
       " 'canada wa',\n",
       " 'canadian ethnic',\n",
       " 'canadian heraldry',\n",
       " 'canadian portuguese',\n",
       " 'canadian version',\n",
       " 'cancellation wa',\n",
       " 'candidacy rfa',\n",
       " 'candidacy rfa making',\n",
       " 'candidate county',\n",
       " 'candidate county election',\n",
       " 'candidate dead',\n",
       " 'candidate dead pool',\n",
       " 'candidate deletion',\n",
       " 'candidate list',\n",
       " 'candidate list connecticut',\n",
       " 'candidate page',\n",
       " 'candidature person',\n",
       " 'candidature person elected',\n",
       " 'candidature person sign',\n",
       " 'cannes film',\n",
       " 'cannes film festival',\n",
       " 'canr org',\n",
       " 'canr org acrobat',\n",
       " 'canton viaduct',\n",
       " 'cantora gp',\n",
       " 'cantora gp music',\n",
       " 'canucksters user',\n",
       " 'canucksters user talk',\n",
       " 'canyon high',\n",
       " 'canyon high school',\n",
       " 'cape town',\n",
       " 'capital city',\n",
       " 'capital crime',\n",
       " 'capital israel',\n",
       " 'capital letter',\n",
       " 'capital letter iota',\n",
       " 'capital letter yot',\n",
       " 'capital punishment',\n",
       " 'capital world',\n",
       " 'capitalism liber',\n",
       " 'capitalist corporation',\n",
       " 'capitalist state',\n",
       " 'capoeira banning',\n",
       " 'capped albatross',\n",
       " 'caption overall',\n",
       " 'caption overall pass',\n",
       " 'caption template',\n",
       " 'caption template potd',\n",
       " 'car expert',\n",
       " 'car park',\n",
       " 'caramel candy',\n",
       " 'carbohydrate metabolism',\n",
       " 'carbon atom',\n",
       " 'carbon literacy',\n",
       " 'carcharhinus specie',\n",
       " 'care article',\n",
       " 'care believe',\n",
       " 'care best',\n",
       " 'care care',\n",
       " 'care discus',\n",
       " 'care dont',\n",
       " 'care edit',\n",
       " 'care edits',\n",
       " 'care far',\n",
       " 'care fuck',\n",
       " 'care guy',\n",
       " 'care ha',\n",
       " 'care health',\n",
       " 'care im',\n",
       " 'care just',\n",
       " 'care le',\n",
       " 'care money',\n",
       " 'care need',\n",
       " 'care plan',\n",
       " 'care political',\n",
       " 'care say',\n",
       " 'care school',\n",
       " 'care source',\n",
       " 'care stupid',\n",
       " 'care talk',\n",
       " 'care thanks',\n",
       " 'care thing',\n",
       " 'care think',\n",
       " 'care truth',\n",
       " 'care wa',\n",
       " 'care way',\n",
       " 'care wikipedia',\n",
       " 'career section',\n",
       " 'career wa',\n",
       " 'careful consideration',\n",
       " 'careful future',\n",
       " 'careful image',\n",
       " 'careful image included',\n",
       " 'careful make',\n",
       " 'careful make sure',\n",
       " 'careful remove',\n",
       " 'careful remove content',\n",
       " 'careful use',\n",
       " 'carefully looking',\n",
       " 'carefully read',\n",
       " 'carefully way',\n",
       " 'cariboo plateau',\n",
       " 'carl jung',\n",
       " 'carl sagan',\n",
       " 'carlile terrace',\n",
       " 'carlos careqa',\n",
       " 'carlos ray',\n",
       " 'carlos ray chuck',\n",
       " 'carnatic music',\n",
       " 'carol mithers',\n",
       " 'carol moore',\n",
       " 'caroline roe',\n",
       " 'carried away',\n",
       " 'carried manner',\n",
       " 'carried manner likely',\n",
       " 'carry discussion',\n",
       " 'carry lot',\n",
       " 'carrying capacity',\n",
       " 'cartoon porn',\n",
       " 'case added',\n",
       " 'case admins',\n",
       " 'case answer',\n",
       " 'case article',\n",
       " 'case citation',\n",
       " 'case clearly',\n",
       " 'case closed',\n",
       " 'case common',\n",
       " 'case completely',\n",
       " 'case consider',\n",
       " 'case content',\n",
       " 'case content dispute',\n",
       " 'case control',\n",
       " 'case court',\n",
       " 'case courts',\n",
       " 'case definitely',\n",
       " 'case delete',\n",
       " 'case did',\n",
       " 'case didnt',\n",
       " 'case didnt know',\n",
       " 'case difficult',\n",
       " 'case discussion',\n",
       " 'case doe',\n",
       " 'case dont',\n",
       " 'case editing',\n",
       " 'case editing evidence',\n",
       " 'case encyclopedia',\n",
       " 'case encyclopedia intended',\n",
       " 'case entire',\n",
       " 'case fact',\n",
       " 'case feel',\n",
       " 'case finished',\n",
       " 'case given',\n",
       " 'case going',\n",
       " 'case guy',\n",
       " 'case ha',\n",
       " 'case ha mentioned',\n",
       " 'case havent',\n",
       " 'case havent figured',\n",
       " 'case holder',\n",
       " 'case hope',\n",
       " 'case hope enjoy',\n",
       " 'case ill',\n",
       " 'case im',\n",
       " 'case im sorry',\n",
       " 'case im sure',\n",
       " 'case inclusion',\n",
       " 'case involving',\n",
       " 'case isnt',\n",
       " 'case ive',\n",
       " 'case jury',\n",
       " 'case just',\n",
       " 'case justice',\n",
       " 'case like',\n",
       " 'case line',\n",
       " 'case link',\n",
       " 'case link website',\n",
       " 'case little',\n",
       " 'case look',\n",
       " 'case lot',\n",
       " 'case make',\n",
       " 'case mean',\n",
       " 'case member',\n",
       " 'case member jury',\n",
       " 'case missing',\n",
       " 'case missing child',\n",
       " 'case month',\n",
       " 'case need',\n",
       " 'case non',\n",
       " 'case number',\n",
       " 'case person',\n",
       " 'case point',\n",
       " 'case poland',\n",
       " 'case presented',\n",
       " 'case probably',\n",
       " 'case really',\n",
       " 'case refer',\n",
       " 'case refer wikipedia',\n",
       " 'case reference',\n",
       " 'case report',\n",
       " 'case right',\n",
       " 'case shall',\n",
       " 'case source',\n",
       " 'case steady',\n",
       " 'case steady flow',\n",
       " 'case study',\n",
       " 'case summary',\n",
       " 'case talk',\n",
       " 'case thanks',\n",
       " 'case thats',\n",
       " 'case theyre',\n",
       " 'case think',\n",
       " 'case transport',\n",
       " 'case trouble',\n",
       " 'case try',\n",
       " 'case uk',\n",
       " 'case user',\n",
       " 'case vote',\n",
       " 'case wa',\n",
       " 'case want',\n",
       " 'case wanted',\n",
       " 'case website',\n",
       " 'case wiki',\n",
       " 'case wikipedia',\n",
       " 'case won',\n",
       " 'case wp',\n",
       " 'case year',\n",
       " 'case youre',\n",
       " 'cast crew',\n",
       " 'cast india',\n",
       " 'cast member',\n",
       " 'cast recording',\n",
       " 'cast section',\n",
       " 'castle age',\n",
       " 'castration anxiety',\n",
       " 'castro street',\n",
       " 'castro street fair',\n",
       " 'casual reader',\n",
       " 'casual reader like',\n",
       " 'casualty figure',\n",
       " 'cat abuse',\n",
       " 'cat abuse cat',\n",
       " 'cat flap',\n",
       " 'cat fuck',\n",
       " 'cat fuck cat',\n",
       " 'cat jpg',\n",
       " 'cat lady',\n",
       " 'cat like',\n",
       " 'cat think',\n",
       " 'catalog number',\n",
       " 'catastrophe ballet',\n",
       " 'catdepth params',\n",
       " 'catdepth params random',\n",
       " 'categories discussion',\n",
       " 'categories discussion nomination',\n",
       " 'categories discussion page',\n",
       " 'categorization article',\n",
       " 'categorization article wa',\n",
       " 'categorization scheme',\n",
       " 'categorized based',\n",
       " 'categorized based scheme',\n",
       " 'category add',\n",
       " 'category article',\n",
       " 'category articles',\n",
       " 'category baycroft',\n",
       " 'category baycroft school',\n",
       " 'category biography',\n",
       " 'category biography article',\n",
       " 'category cannes',\n",
       " 'category cannes film',\n",
       " 'category category',\n",
       " 'category communications',\n",
       " 'category concept',\n",
       " 'category concept object',\n",
       " 'category country',\n",
       " 'category created',\n",
       " 'category criminal',\n",
       " 'category criminal law',\n",
       " 'category doesnt',\n",
       " 'category dont',\n",
       " 'category education',\n",
       " 'category entry',\n",
       " 'category entry categories',\n",
       " 'category example',\n",
       " 'category flagged',\n",
       " 'category flagged article',\n",
       " 'category ha',\n",
       " 'category hebrew',\n",
       " 'category hebrew bible',\n",
       " 'category heraldry',\n",
       " 'category heraldry canada',\n",
       " 'category italian',\n",
       " 'category italian jews',\n",
       " 'category jewish',\n",
       " 'category jewish text',\n",
       " 'category like',\n",
       " 'category list',\n",
       " 'category living',\n",
       " 'category living people',\n",
       " 'category make',\n",
       " 'category make category',\n",
       " 'category object',\n",
       " 'category organizations',\n",
       " 'category organizations designated',\n",
       " 'category page',\n",
       " 'category politics',\n",
       " 'category problem',\n",
       " 'category redirects',\n",
       " 'category removal',\n",
       " 'category removed',\n",
       " 'category romani',\n",
       " 'category romani people',\n",
       " 'category second',\n",
       " 'category second life',\n",
       " 'category section',\n",
       " 'category structure',\n",
       " 'category tag',\n",
       " 'category talk',\n",
       " 'category tanakh',\n",
       " 'category think',\n",
       " 'category unreviewed',\n",
       " 'category unreviewed new',\n",
       " 'category venezuelans',\n",
       " 'category venezuelans united',\n",
       " 'category wikipedians',\n",
       " 'category yahoo',\n",
       " 'category yahoo employee',\n",
       " 'catholic bishop',\n",
       " 'catholic church',\n",
       " 'catholic church article',\n",
       " 'catholic church staten',\n",
       " 'catholic encyclopedia',\n",
       " 'catholic wa',\n",
       " 'caught lying',\n",
       " 'caught lying face',\n",
       " 'caught vandalizing',\n",
       " 'causal reducibility',\n",
       " 'cause aint',\n",
       " 'cause block',\n",
       " 'cause cause',\n",
       " 'cause certainly',\n",
       " 'cause concern',\n",
       " 'cause confusion',\n",
       " 'cause eczma',\n",
       " 'cause eczma psoriosis',\n",
       " 'cause harm',\n",
       " 'cause hell',\n",
       " 'cause im',\n",
       " 'cause just',\n",
       " 'cause like',\n",
       " 'cause mental',\n",
       " 'cause mental state',\n",
       " 'cause people',\n",
       " 'cause problem',\n",
       " 'cause said',\n",
       " 'cause say',\n",
       " 'cause stay',\n",
       " 'cause thats',\n",
       " 'cause trouble',\n",
       " 'cause wa',\n",
       " 'cause wanna',\n",
       " 'cause wanna home',\n",
       " 'cause wrote',\n",
       " 'caused action',\n",
       " 'caused little',\n",
       " 'causing problem',\n",
       " 'causing trouble',\n",
       " 'cavalry division',\n",
       " 'cc sa',\n",
       " 'cc sa license',\n",
       " 'cd conservative',\n",
       " 'cd conservative nightstallion',\n",
       " 'cd goretrade',\n",
       " 'cd lan',\n",
       " 'cd lan ado',\n",
       " 'ce debate',\n",
       " 'cease desist',\n",
       " 'cedar hill',\n",
       " 'cedar rapids',\n",
       " 'celestial ultra',\n",
       " 'celestial ultra nano',\n",
       " 'cell phone',\n",
       " 'cellpadding cellspacing',\n",
       " 'cellpadding cellspacing style',\n",
       " 'cellpadding style',\n",
       " 'cellpadding style border',\n",
       " 'cellpadding style vertical',\n",
       " 'cellspacing style',\n",
       " 'cellspacing style background',\n",
       " 'cellspacing style vertical',\n",
       " 'cellular center',\n",
       " 'cemal pasha',\n",
       " 'censor dont',\n",
       " 'censor dont like',\n",
       " 'censor point',\n",
       " 'censored wa',\n",
       " 'censored yeah',\n",
       " 'census bureau',\n",
       " 'census bureau ha',\n",
       " 'census result',\n",
       " 'center border',\n",
       " 'center border px',\n",
       " 'center example',\n",
       " 'center feeling',\n",
       " 'center feeling therapy',\n",
       " 'center im',\n",
       " 'center object',\n",
       " 'center object spin',\n",
       " 'center reiki',\n",
       " 'center style',\n",
       " 'center style background',\n",
       " 'center talk',\n",
       " 'center talk page',\n",
       " 'center width',\n",
       " 'center wikiproject',\n",
       " 'center wikiproject james',\n",
       " 'center women',\n",
       " 'center women families',\n",
       " 'centerfuse greater',\n",
       " 'centerfuse greater center',\n",
       " 'centerfuse realized',\n",
       " 'centerfuse realized energy',\n",
       " 'centos article',\n",
       " 'central america',\n",
       " 'central america north',\n",
       " 'central american',\n",
       " 'central americans',\n",
       " 'central americans north',\n",
       " 'central asia',\n",
       " 'central asian',\n",
       " 'central committee',\n",
       " 'central department',\n",
       " 'central department nepal',\n",
       " 'central dogma',\n",
       " 'central europe',\n",
       " 'central european',\n",
       " 'central european history',\n",
       " 'central government',\n",
       " 'central india',\n",
       " 'central india institute',\n",
       " 'central issue',\n",
       " 'central london',\n",
       " 'central masint',\n",
       " 'central masint office',\n",
       " 'centralized discussion',\n",
       " 'centre excellence',\n",
       " 'centre major',\n",
       " 'centre major commercial',\n",
       " 'centre right',\n",
       " 'centre wa',\n",
       " 'centre wa built',\n",
       " 'centrifugal force',\n",
       " 'century bce',\n",
       " 'century bosnia',\n",
       " 'century like',\n",
       " 'century old',\n",
       " 'century philosophy',\n",
       " 'century term',\n",
       " 'century true',\n",
       " 'century wa',\n",
       " 'ceo mark',\n",
       " 'ceo mark zuckerberg',\n",
       " 'ceremony based',\n",
       " 'ceremony performed',\n",
       " 'certain article',\n",
       " 'certain aspect',\n",
       " 'certain category',\n",
       " 'certain editor',\n",
       " 'certain feature',\n",
       " 'certain feature universe',\n",
       " 'certain field',\n",
       " 'certain field reason',\n",
       " 'certain flagged',\n",
       " 'certain flagged page',\n",
       " 'certain individual',\n",
       " 'certain issue',\n",
       " 'certain kind',\n",
       " 'certain level',\n",
       " 'certain make',\n",
       " 'certain number',\n",
       " 'certain people',\n",
       " 'certain point',\n",
       " 'certain thing',\n",
       " 'certain time',\n",
       " 'certain wa',\n",
       " 'certain word',\n",
       " 'certainly agree',\n",
       " 'certainly appreciated',\n",
       " 'certainly aware',\n",
       " 'certainly better',\n",
       " 'certainly dont',\n",
       " 'certainly ha',\n",
       " 'certainly hope',\n",
       " 'certainly listed',\n",
       " 'certainly look',\n",
       " 'certainly necessary',\n",
       " 'certainly notable',\n",
       " 'certainly object',\n",
       " 'certainly problem',\n",
       " 'certainly thought',\n",
       " 'certainly wa',\n",
       " 'certainly worth',\n",
       " 'certainly wouldnt',\n",
       " 'certainly written',\n",
       " 'certainty course',\n",
       " 'certainty course fact',\n",
       " 'certified sale',\n",
       " 'certified sale million',\n",
       " 'cf arya',\n",
       " 'cfd nomination',\n",
       " 'cfd nomination category',\n",
       " 'cfm product',\n",
       " 'cfm product id',\n",
       " 'cfs chronic',\n",
       " 'cfs chronic fatigue',\n",
       " 'chabad wikipedia',\n",
       " 'chad gilbert',\n",
       " 'chad johnson',\n",
       " 'chad kellogg',\n",
       " 'chad kellogg diff',\n",
       " 'chad ocho',\n",
       " 'chad ocho cinco',\n",
       " 'chadic language',\n",
       " 'chain saw',\n",
       " 'chain saw massacre',\n",
       " 'chaing saen',\n",
       " 'challenge cornyn',\n",
       " 'challenge cornyn article',\n",
       " 'challenge information',\n",
       " 'challenged likely',\n",
       " 'challenged likely challenged',\n",
       " 'chalukya dynasty',\n",
       " 'champ jpg',\n",
       " 'champion time',\n",
       " 'championship title',\n",
       " 'championship title different',\n",
       " 'championship wa',\n",
       " 'championship wa held',\n",
       " 'chan anonymous',\n",
       " 'chan wa',\n",
       " 'chance cash',\n",
       " 'chance check',\n",
       " 'chance check improve',\n",
       " 'chance defend',\n",
       " 'chance getting',\n",
       " 'chance look',\n",
       " 'chance maybe',\n",
       " 'chance talk',\n",
       " 'chance wa',\n",
       " 'chancellor galactic',\n",
       " 'chancellor galactic republic',\n",
       " 'change added',\n",
       " 'change agricultural',\n",
       " 'change agricultural yield',\n",
       " 'change apology',\n",
       " 'change applied',\n",
       " 'change applied small',\n",
       " 'change arrogant',\n",
       " 'change article',\n",
       " 'change article say',\n",
       " 'change ask',\n",
       " 'change attitude',\n",
       " 'change awaiting',\n",
       " 'change awaiting review',\n",
       " 'change bat',\n",
       " 'change bring',\n",
       " 'change change',\n",
       " 'change changing',\n",
       " 'change color',\n",
       " 'change come',\n",
       " 'change content',\n",
       " 'change content address',\n",
       " 'change content deliberate',\n",
       " 'change copyright',\n",
       " 'change country',\n",
       " 'change current',\n",
       " 'change date',\n",
       " 'change described',\n",
       " 'change described dialectal',\n",
       " 'change diaper',\n",
       " 'change did',\n",
       " 'change discussed',\n",
       " 'change discussion',\n",
       " 'change doe',\n",
       " 'change dont',\n",
       " 'change early',\n",
       " 'change edit',\n",
       " 'change edit article',\n",
       " 'change edits',\n",
       " 'change entry',\n",
       " 'change episode',\n",
       " 'change episode numbers',\n",
       " 'change established',\n",
       " 'change fact',\n",
       " 'change feel',\n",
       " 'change feel free',\n",
       " 'change format',\n",
       " 'change format future',\n",
       " 'change freedom',\n",
       " 'change freedom writers',\n",
       " 'change fuck',\n",
       " 'change fuckbot',\n",
       " 'change fuckbot kill',\n",
       " 'change general',\n",
       " 'change good',\n",
       " 'change ha',\n",
       " 'change hi',\n",
       " 'change id',\n",
       " 'change idea',\n",
       " 'change ill',\n",
       " 'change im',\n",
       " 'change im trying',\n",
       " 'change image',\n",
       " 'change infoboxes',\n",
       " 'change ip',\n",
       " 'change ip address',\n",
       " 'change ipcc',\n",
       " 'change ishihara',\n",
       " 'change just',\n",
       " 'change known',\n",
       " 'change known flagged',\n",
       " 'change language',\n",
       " 'change later',\n",
       " 'change lead',\n",
       " 'change left',\n",
       " 'change let',\n",
       " 'change let know',\n",
       " 'change licensing',\n",
       " 'change licensing image',\n",
       " 'change like',\n",
       " 'change list',\n",
       " 'change main',\n",
       " 'change make',\n",
       " 'change meaning',\n",
       " 'change mind',\n",
       " 'change mother',\n",
       " 'change need',\n",
       " 'change opinion',\n",
       " 'change page',\n",
       " 'change page page',\n",
       " 'change pattern',\n",
       " 'change pattern precipitation',\n",
       " 'change pending',\n",
       " 'change pending change',\n",
       " 'change people',\n",
       " 'change picture',\n",
       " 'change policy',\n",
       " 'change political',\n",
       " 'change position',\n",
       " 'change post',\n",
       " 'change read',\n",
       " 'change reason',\n",
       " 'change reference',\n",
       " 'change region',\n",
       " 'change response',\n",
       " 'change reverted',\n",
       " 'change reviewer',\n",
       " 'change science',\n",
       " 'change social',\n",
       " 'change source',\n",
       " 'change state',\n",
       " 'change status',\n",
       " 'change stuff',\n",
       " 'change talk',\n",
       " 'change talk page',\n",
       " 'change template',\n",
       " 'change thanks',\n",
       " 'change think',\n",
       " 'change time',\n",
       " 'change title',\n",
       " 'change unjustified',\n",
       " 'change use',\n",
       " 'change username',\n",
       " 'change vandalism',\n",
       " 'change wa',\n",
       " 'change want',\n",
       " 'change want make',\n",
       " 'change way',\n",
       " 'change week',\n",
       " 'change wikipedia',\n",
       " 'change word',\n",
       " 'change wording',\n",
       " 'change work',\n",
       " 'change work best',\n",
       " 'change world',\n",
       " 'change wp',\n",
       " 'change youve',\n",
       " 'changed article',\n",
       " 'changed band',\n",
       " 'changed british',\n",
       " 'changed date',\n",
       " 'changed did',\n",
       " 'changed doctrine',\n",
       " 'changed gallery',\n",
       " 'changed image',\n",
       " 'changed just',\n",
       " 'changed little',\n",
       " 'changed logo',\n",
       " 'changed mind',\n",
       " 'changed number',\n",
       " 'changed october',\n",
       " 'changed post',\n",
       " 'changed really',\n",
       " 'changed reason',\n",
       " 'changed redirect',\n",
       " 'changed reflect',\n",
       " 'changed say',\n",
       " 'changed section',\n",
       " 'changed section title',\n",
       " 'changed simply',\n",
       " 'changed time',\n",
       " 'changed vote',\n",
       " 'changed word',\n",
       " 'changed year',\n",
       " 'changing article',\n",
       " 'changing article obviously',\n",
       " 'changing edits',\n",
       " 'changing genre',\n",
       " 'changing information',\n",
       " 'changing lead',\n",
       " 'changing main',\n",
       " 'changing mind',\n",
       " 'changing page',\n",
       " 'changing section',\n",
       " 'changing time',\n",
       " 'changing time truth',\n",
       " 'changing title',\n",
       " 'changing username',\n",
       " 'changing username allow',\n",
       " 'changing username usurpations',\n",
       " 'changing word',\n",
       " 'changing year',\n",
       " 'channel equalization',\n",
       " 'channel website',\n",
       " 'channing tatum',\n",
       " 'channing tatum jpg',\n",
       " 'chanted fucking',\n",
       " 'chanted fucking tory',\n",
       " 'chanting youre',\n",
       " 'chanting youre tory',\n",
       " 'chaotic neutral',\n",
       " 'chapter called',\n",
       " 'character article',\n",
       " 'character city',\n",
       " 'character doe',\n",
       " 'character dont',\n",
       " 'character ha',\n",
       " 'character ha recently',\n",
       " 'character le',\n",
       " 'character list',\n",
       " 'character named',\n",
       " 'character old',\n",
       " 'character page',\n",
       " 'character red',\n",
       " 'character set',\n",
       " 'character story',\n",
       " 'character wa',\n",
       " 'characterize subject',\n",
       " 'charity shield',\n",
       " 'charity think',\n",
       " 'charlene doofenshmirtz',\n",
       " 'charles chandler',\n",
       " 'charles matthews',\n",
       " 'charles sumner',\n",
       " 'charles sumner article',\n",
       " 'charlie did',\n",
       " 'charlie did want',\n",
       " ...]"
      ]
     },
     "execution_count": 73,
     "metadata": {},
     "output_type": "execute_result"
    }
   ],
   "source": [
    "feature_name[5000:]"
   ]
  },
  {
   "cell_type": "code",
   "execution_count": 74,
   "metadata": {},
   "outputs": [],
   "source": [
    "import heapq\n",
    "\n",
    "def get_representative_words(category, n=30):\n",
    "    print(target[category])\n",
    "    for (score, wid) in heapq.nlargest(n, zip(coef[category], range(60000))):\n",
    "        print(\"\\t%s %s\" % (feature_name[wid], score))\n",
    "    print(\"\")"
   ]
  },
  {
   "cell_type": "code",
   "execution_count": 84,
   "metadata": {},
   "outputs": [
    {
     "data": {
      "text/plain": [
       "array([[ 0.00000000e+00,  0.00000000e+00,  0.00000000e+00, ...,\n",
       "        -1.33367093e-03,  0.00000000e+00,  0.00000000e+00],\n",
       "       [ 0.00000000e+00,  0.00000000e+00,  0.00000000e+00, ...,\n",
       "        -1.40902278e-04,  0.00000000e+00,  0.00000000e+00],\n",
       "       [ 0.00000000e+00,  0.00000000e+00,  0.00000000e+00, ...,\n",
       "         1.29350666e-02,  0.00000000e+00,  0.00000000e+00],\n",
       "       [ 0.00000000e+00,  0.00000000e+00,  0.00000000e+00, ...,\n",
       "        -5.11186661e-05,  0.00000000e+00,  0.00000000e+00],\n",
       "       [ 0.00000000e+00,  0.00000000e+00,  0.00000000e+00, ...,\n",
       "         1.29839179e-02,  0.00000000e+00,  0.00000000e+00],\n",
       "       [ 0.00000000e+00,  0.00000000e+00,  0.00000000e+00, ...,\n",
       "        -1.23034425e-04,  0.00000000e+00,  0.00000000e+00]])"
      ]
     },
     "execution_count": 84,
     "metadata": {},
     "output_type": "execute_result"
    }
   ],
   "source": [
    "coef"
   ]
  },
  {
   "cell_type": "code",
   "execution_count": null,
   "metadata": {},
   "outputs": [],
   "source": []
  },
  {
   "cell_type": "code",
   "execution_count": 75,
   "metadata": {
    "scrolled": false
   },
   "outputs": [
    {
     "name": "stdout",
     "output_type": "stream",
     "text": [
      "toxic\n",
      "\tson bitch 0.4752495437998008\n",
      "\tsuck dick 0.35370512919662267\n",
      "\tfuck fuck 0.285547414319986\n",
      "\teat shit 0.24392832389970712\n",
      "\tha ha 0.2416415553425072\n",
      "\tpiece shit 0.18771810796526037\n",
      "\tmother fucker 0.1864710651243753\n",
      "\thell going 0.18557462645727116\n",
      "\thope die 0.18402789469195047\n",
      "\tfucking bitch 0.18075800140148737\n",
      "\thate hate 0.17959850025547353\n",
      "\tpeople like 0.17260142310361298\n",
      "\tknow live 0.1669868350390579\n",
      "\tdont care 0.16629385991992454\n",
      "\tlook like 0.1646910375980079\n",
      "\thigh horse 0.16391461247718064\n",
      "\tdont like 0.15101886093310893\n",
      "\tsmall penis 0.14996916056026888\n",
      "\tignorant fool 0.14910149520813068\n",
      "\tfuck bitch 0.14724437150923295\n",
      "\thell did 0.14362174373087247\n",
      "\tsuck cock 0.14137240966410716\n",
      "\tfucking talk 0.1378466231863186\n",
      "\tha ha ha 0.13706930075318316\n",
      "\tlittle bitch 0.1357912752321988\n",
      "\teat dick 0.1354681198674784\n",
      "\tfucking stupid 0.1335065469252544\n",
      "\tjew hating 0.1328802854460508\n",
      "\tyoure fag 0.13133076845833588\n",
      "\tstupid fuck 0.13085053294428806\n",
      "\n",
      "severe_toxic\n",
      "\tfucking bitch 0.20251104500256767\n",
      "\tsuck dick 0.18134732887910396\n",
      "\tfuck bitch 0.16468329596135325\n",
      "\tknow live 0.15431212962567198\n",
      "\tdick fuck 0.12589710286584174\n",
      "\they fuck 0.12579970862017922\n",
      "\tfuck little 0.12547286386797246\n",
      "\till live 0.11636292760680718\n",
      "\tfuck fuck 0.1068641156687568\n",
      "\tsuck balls 0.09886270653165272\n",
      "\tfat poop 0.09886270349552677\n",
      "\twa joking 0.09886239980292907\n",
      "\tgod hate 0.09886208293889566\n",
      "\tpiece crap 0.0985655695970872\n",
      "\tdouche bag 0.09851893632913472\n",
      "\tgoing sue 0.09845135061011273\n",
      "\tmother fucker 0.09761798357344069\n",
      "\tbitch stop 0.09443756977617913\n",
      "\tsay want 0.09402444168416255\n",
      "\tfuk ng 0.08303624670396104\n",
      "\tfuck fuck fuck 0.07299757164562595\n",
      "\tfuck small 0.07097911895451928\n",
      "\tfuck people 0.0707632051815597\n",
      "\tpeople information 0.068723353389912\n",
      "\tfuck fucking 0.06848102067262035\n",
      "\teat dick 0.06825241582261814\n",
      "\tsmall penis 0.06771513508335862\n",
      "\tlittle bitch 0.06559221158617581\n",
      "\twant fuck 0.06519243354543794\n",
      "\tbutt sex 0.06398141796650866\n",
      "\n",
      "obscene\n",
      "\tson bitch 0.5102423392043631\n",
      "\tsuck dick 0.37694118733200477\n",
      "\tfuck fuck 0.3039234860176905\n",
      "\tfucking bitch 0.19161323868547614\n",
      "\teat shit 0.18895684791061293\n",
      "\tknow live 0.17692039244619398\n",
      "\tpiece shit 0.17126694321489752\n",
      "\tfuck bitch 0.15599096270108867\n",
      "\tsuck cock 0.15032133426493732\n",
      "\tfucking talk 0.14569576960960273\n",
      "\tlittle bitch 0.1441655488748802\n",
      "\teat dick 0.14369220044159356\n",
      "\tfucking stupid 0.141452060531009\n",
      "\tyoure fag 0.1393196989379971\n",
      "\tstupid fuck 0.13848876370368282\n",
      "\tdick fuck 0.13820548047483214\n",
      "\tleave fuck 0.13764748562015178\n",
      "\tfuck faggot 0.1374959485601004\n",
      "\tah fuck 0.1350277197110243\n",
      "\tguys bunch 0.13288965773925981\n",
      "\tgoing sue 0.1298592438216076\n",
      "\tsay fuck 0.12657541887127494\n",
      "\tcock sucker 0.1260710349574283\n",
      "\tdouche bag 0.12423850616350836\n",
      "\tpiece crap 0.12028747490225804\n",
      "\tyoure idiot 0.1191090254020717\n",
      "\they fuck 0.11877196376293066\n",
      "\tfuck little 0.1186871751326793\n",
      "\taccount dont 0.11716396421024573\n",
      "\tmother fucking 0.1134957558605401\n",
      "\n",
      "threat\n",
      "\thope die 0.16058828552079724\n",
      "\tknow live 0.1317838442722443\n",
      "\tdeserve die 0.09959033120087761\n",
      "\tfat poop 0.0995902876339091\n",
      "\timportant like 0.09955253124068471\n",
      "\twarning mark 0.09950377156762866\n",
      "\tnotice page 0.09934797994234942\n",
      "\tson bitch 0.09776276636577257\n",
      "\ttalk page 0.07789717890005796\n",
      "\twrong kill 0.07541529504917771\n",
      "\tsincerely hope 0.07403854431114133\n",
      "\twarning stop 0.07109900004017623\n",
      "\till live 0.07095391026852116\n",
      "\tundoing edits 0.0693617765728542\n",
      "\tfuck fucking 0.06936109123464386\n",
      "\twhats wrong 0.06478313649068322\n",
      "\tbad thing happen 0.06254146861162001\n",
      "\tfuck bastard 0.06246902183817562\n",
      "\tdie die 0.05989852405970122\n",
      "\taaron swartz 0.05906874383621964\n",
      "\tsex im 0.058668355891642994\n",
      "\tim running 0.05861533474733585\n",
      "\tthing happen 0.05795328107829621\n",
      "\tburn hell 0.05501431671105691\n",
      "\twow youre 0.05419774516393438\n",
      "\tpuppet account 0.05322036277176446\n",
      "\tim sock puppet 0.05322036277176446\n",
      "\tim sock 0.051599903001925615\n",
      "\tjust pathetic 0.05126751646978775\n",
      "\twhite trash 0.0510562881430467\n",
      "\n",
      "insult\n",
      "\tson bitch 0.5013796929092409\n",
      "\tfuck fuck 0.2544044898006488\n",
      "\tsuck dick 0.23806410121305963\n",
      "\thate hate 0.1942838450453259\n",
      "\tfucking bitch 0.1923858203162521\n",
      "\tha ha 0.182817550726662\n",
      "\tknow live 0.17760294885305966\n",
      "\tfuck bitch 0.15659059737324005\n",
      "\thell did 0.15260039466217548\n",
      "\tlittle bitch 0.14468868708383537\n",
      "\teat dick 0.14422597583607796\n",
      "\tfucking stupid 0.14199321258665534\n",
      "\tjew hating 0.14113769614292823\n",
      "\tyoure fag 0.1396700563373559\n",
      "\tstupid fuck 0.1390533257266649\n",
      "\tdick fuck 0.13875910488789467\n",
      "\tleave fuck 0.13827063542994555\n",
      "\tfuck faggot 0.13799554468505826\n",
      "\tah fuck 0.1355323159273038\n",
      "\tguys bunch 0.13332675807733113\n",
      "\tpiece shit 0.13273440673268747\n",
      "\tgoing sue 0.13036728386770383\n",
      "\tsay fuck 0.12704187676096967\n",
      "\tdouche bag 0.12471795613416917\n",
      "\they fuck 0.1193228665627421\n",
      "\tfuck little 0.11919669785842851\n",
      "\tsuck cock 0.11782366883358861\n",
      "\tdont care 0.11639691201820998\n",
      "\tcock sucker 0.11306602433095768\n",
      "\tfuck fucking 0.11128084226550632\n",
      "\n"
     ]
    }
   ],
   "source": [
    "for c in range(5):\n",
    "    get_representative_words(c)"
   ]
  },
  {
   "cell_type": "code",
   "execution_count": null,
   "metadata": {
    "collapsed": true
   },
   "outputs": [],
   "source": []
  },
  {
   "cell_type": "code",
   "execution_count": null,
   "metadata": {
    "collapsed": true
   },
   "outputs": [],
   "source": []
  }
 ],
 "metadata": {
  "kernelspec": {
   "display_name": "Python 3",
   "language": "python",
   "name": "python3"
  },
  "language_info": {
   "codemirror_mode": {
    "name": "ipython",
    "version": 3
   },
   "file_extension": ".py",
   "mimetype": "text/x-python",
   "name": "python",
   "nbconvert_exporter": "python",
   "pygments_lexer": "ipython3",
   "version": "3.7.3"
  }
 },
 "nbformat": 4,
 "nbformat_minor": 2
}
